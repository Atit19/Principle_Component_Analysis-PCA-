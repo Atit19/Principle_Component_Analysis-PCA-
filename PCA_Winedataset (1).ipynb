{
  "nbformat": 4,
  "nbformat_minor": 0,
  "metadata": {
    "colab": {
      "provenance": [],
      "collapsed_sections": []
    },
    "kernelspec": {
      "name": "python3",
      "display_name": "Python 3"
    },
    "language_info": {
      "name": "python"
    }
  },
  "cells": [
    {
      "cell_type": "markdown",
      "source": [
        "\n",
        "Q-Perform Principal component analysis and perform clustering using first \n",
        "3 principal component scores (both heirarchial and k mean clustering(scree plot or elbow curve) and obtain \n",
        "optimum number of clusters and check whether we have obtained same number of clusters with the original data \n",
        "(class column we have ignored at the begining who shows it has 3 clusters)df\n",
        "\n",
        "\n"
      ],
      "metadata": {
        "id": "eNspREU-aNew"
      }
    },
    {
      "cell_type": "code",
      "execution_count": 41,
      "metadata": {
        "id": "BhYkaU8jNbAB"
      },
      "outputs": [],
      "source": [
        "import pandas as pd \n",
        "import numpy as np\n",
        "from sklearn.decomposition import PCA\n",
        "import matplotlib.pyplot as plt\n",
        "from sklearn.preprocessing import scale \n",
        "import seaborn as sns"
      ]
    },
    {
      "cell_type": "code",
      "source": [
        "df_wine = pd.read_csv(\"/content/wine.csv\")\n",
        "df_wine.head()"
      ],
      "metadata": {
        "colab": {
          "base_uri": "https://localhost:8080/",
          "height": 206
        },
        "id": "ArBq4LbLNoUg",
        "outputId": "68433a48-6cde-4a68-be74-b343753981cb"
      },
      "execution_count": 95,
      "outputs": [
        {
          "output_type": "execute_result",
          "data": {
            "text/plain": [
              "   Type  Alcohol  Malic   Ash  Alcalinity  Magnesium  Phenols  Flavanoids  \\\n",
              "0     1    14.23   1.71  2.43        15.6        127     2.80        3.06   \n",
              "1     1    13.20   1.78  2.14        11.2        100     2.65        2.76   \n",
              "2     1    13.16   2.36  2.67        18.6        101     2.80        3.24   \n",
              "3     1    14.37   1.95  2.50        16.8        113     3.85        3.49   \n",
              "4     1    13.24   2.59  2.87        21.0        118     2.80        2.69   \n",
              "\n",
              "   Nonflavanoids  Proanthocyanins  Color   Hue  Dilution  Proline  \n",
              "0           0.28             2.29   5.64  1.04      3.92     1065  \n",
              "1           0.26             1.28   4.38  1.05      3.40     1050  \n",
              "2           0.30             2.81   5.68  1.03      3.17     1185  \n",
              "3           0.24             2.18   7.80  0.86      3.45     1480  \n",
              "4           0.39             1.82   4.32  1.04      2.93      735  "
            ],
            "text/html": [
              "\n",
              "  <div id=\"df-b611bd3b-b262-4c2c-839c-e4127daf3c89\">\n",
              "    <div class=\"colab-df-container\">\n",
              "      <div>\n",
              "<style scoped>\n",
              "    .dataframe tbody tr th:only-of-type {\n",
              "        vertical-align: middle;\n",
              "    }\n",
              "\n",
              "    .dataframe tbody tr th {\n",
              "        vertical-align: top;\n",
              "    }\n",
              "\n",
              "    .dataframe thead th {\n",
              "        text-align: right;\n",
              "    }\n",
              "</style>\n",
              "<table border=\"1\" class=\"dataframe\">\n",
              "  <thead>\n",
              "    <tr style=\"text-align: right;\">\n",
              "      <th></th>\n",
              "      <th>Type</th>\n",
              "      <th>Alcohol</th>\n",
              "      <th>Malic</th>\n",
              "      <th>Ash</th>\n",
              "      <th>Alcalinity</th>\n",
              "      <th>Magnesium</th>\n",
              "      <th>Phenols</th>\n",
              "      <th>Flavanoids</th>\n",
              "      <th>Nonflavanoids</th>\n",
              "      <th>Proanthocyanins</th>\n",
              "      <th>Color</th>\n",
              "      <th>Hue</th>\n",
              "      <th>Dilution</th>\n",
              "      <th>Proline</th>\n",
              "    </tr>\n",
              "  </thead>\n",
              "  <tbody>\n",
              "    <tr>\n",
              "      <th>0</th>\n",
              "      <td>1</td>\n",
              "      <td>14.23</td>\n",
              "      <td>1.71</td>\n",
              "      <td>2.43</td>\n",
              "      <td>15.6</td>\n",
              "      <td>127</td>\n",
              "      <td>2.80</td>\n",
              "      <td>3.06</td>\n",
              "      <td>0.28</td>\n",
              "      <td>2.29</td>\n",
              "      <td>5.64</td>\n",
              "      <td>1.04</td>\n",
              "      <td>3.92</td>\n",
              "      <td>1065</td>\n",
              "    </tr>\n",
              "    <tr>\n",
              "      <th>1</th>\n",
              "      <td>1</td>\n",
              "      <td>13.20</td>\n",
              "      <td>1.78</td>\n",
              "      <td>2.14</td>\n",
              "      <td>11.2</td>\n",
              "      <td>100</td>\n",
              "      <td>2.65</td>\n",
              "      <td>2.76</td>\n",
              "      <td>0.26</td>\n",
              "      <td>1.28</td>\n",
              "      <td>4.38</td>\n",
              "      <td>1.05</td>\n",
              "      <td>3.40</td>\n",
              "      <td>1050</td>\n",
              "    </tr>\n",
              "    <tr>\n",
              "      <th>2</th>\n",
              "      <td>1</td>\n",
              "      <td>13.16</td>\n",
              "      <td>2.36</td>\n",
              "      <td>2.67</td>\n",
              "      <td>18.6</td>\n",
              "      <td>101</td>\n",
              "      <td>2.80</td>\n",
              "      <td>3.24</td>\n",
              "      <td>0.30</td>\n",
              "      <td>2.81</td>\n",
              "      <td>5.68</td>\n",
              "      <td>1.03</td>\n",
              "      <td>3.17</td>\n",
              "      <td>1185</td>\n",
              "    </tr>\n",
              "    <tr>\n",
              "      <th>3</th>\n",
              "      <td>1</td>\n",
              "      <td>14.37</td>\n",
              "      <td>1.95</td>\n",
              "      <td>2.50</td>\n",
              "      <td>16.8</td>\n",
              "      <td>113</td>\n",
              "      <td>3.85</td>\n",
              "      <td>3.49</td>\n",
              "      <td>0.24</td>\n",
              "      <td>2.18</td>\n",
              "      <td>7.80</td>\n",
              "      <td>0.86</td>\n",
              "      <td>3.45</td>\n",
              "      <td>1480</td>\n",
              "    </tr>\n",
              "    <tr>\n",
              "      <th>4</th>\n",
              "      <td>1</td>\n",
              "      <td>13.24</td>\n",
              "      <td>2.59</td>\n",
              "      <td>2.87</td>\n",
              "      <td>21.0</td>\n",
              "      <td>118</td>\n",
              "      <td>2.80</td>\n",
              "      <td>2.69</td>\n",
              "      <td>0.39</td>\n",
              "      <td>1.82</td>\n",
              "      <td>4.32</td>\n",
              "      <td>1.04</td>\n",
              "      <td>2.93</td>\n",
              "      <td>735</td>\n",
              "    </tr>\n",
              "  </tbody>\n",
              "</table>\n",
              "</div>\n",
              "      <button class=\"colab-df-convert\" onclick=\"convertToInteractive('df-b611bd3b-b262-4c2c-839c-e4127daf3c89')\"\n",
              "              title=\"Convert this dataframe to an interactive table.\"\n",
              "              style=\"display:none;\">\n",
              "        \n",
              "  <svg xmlns=\"http://www.w3.org/2000/svg\" height=\"24px\"viewBox=\"0 0 24 24\"\n",
              "       width=\"24px\">\n",
              "    <path d=\"M0 0h24v24H0V0z\" fill=\"none\"/>\n",
              "    <path d=\"M18.56 5.44l.94 2.06.94-2.06 2.06-.94-2.06-.94-.94-2.06-.94 2.06-2.06.94zm-11 1L8.5 8.5l.94-2.06 2.06-.94-2.06-.94L8.5 2.5l-.94 2.06-2.06.94zm10 10l.94 2.06.94-2.06 2.06-.94-2.06-.94-.94-2.06-.94 2.06-2.06.94z\"/><path d=\"M17.41 7.96l-1.37-1.37c-.4-.4-.92-.59-1.43-.59-.52 0-1.04.2-1.43.59L10.3 9.45l-7.72 7.72c-.78.78-.78 2.05 0 2.83L4 21.41c.39.39.9.59 1.41.59.51 0 1.02-.2 1.41-.59l7.78-7.78 2.81-2.81c.8-.78.8-2.07 0-2.86zM5.41 20L4 18.59l7.72-7.72 1.47 1.35L5.41 20z\"/>\n",
              "  </svg>\n",
              "      </button>\n",
              "      \n",
              "  <style>\n",
              "    .colab-df-container {\n",
              "      display:flex;\n",
              "      flex-wrap:wrap;\n",
              "      gap: 12px;\n",
              "    }\n",
              "\n",
              "    .colab-df-convert {\n",
              "      background-color: #E8F0FE;\n",
              "      border: none;\n",
              "      border-radius: 50%;\n",
              "      cursor: pointer;\n",
              "      display: none;\n",
              "      fill: #1967D2;\n",
              "      height: 32px;\n",
              "      padding: 0 0 0 0;\n",
              "      width: 32px;\n",
              "    }\n",
              "\n",
              "    .colab-df-convert:hover {\n",
              "      background-color: #E2EBFA;\n",
              "      box-shadow: 0px 1px 2px rgba(60, 64, 67, 0.3), 0px 1px 3px 1px rgba(60, 64, 67, 0.15);\n",
              "      fill: #174EA6;\n",
              "    }\n",
              "\n",
              "    [theme=dark] .colab-df-convert {\n",
              "      background-color: #3B4455;\n",
              "      fill: #D2E3FC;\n",
              "    }\n",
              "\n",
              "    [theme=dark] .colab-df-convert:hover {\n",
              "      background-color: #434B5C;\n",
              "      box-shadow: 0px 1px 3px 1px rgba(0, 0, 0, 0.15);\n",
              "      filter: drop-shadow(0px 1px 2px rgba(0, 0, 0, 0.3));\n",
              "      fill: #FFFFFF;\n",
              "    }\n",
              "  </style>\n",
              "\n",
              "      <script>\n",
              "        const buttonEl =\n",
              "          document.querySelector('#df-b611bd3b-b262-4c2c-839c-e4127daf3c89 button.colab-df-convert');\n",
              "        buttonEl.style.display =\n",
              "          google.colab.kernel.accessAllowed ? 'block' : 'none';\n",
              "\n",
              "        async function convertToInteractive(key) {\n",
              "          const element = document.querySelector('#df-b611bd3b-b262-4c2c-839c-e4127daf3c89');\n",
              "          const dataTable =\n",
              "            await google.colab.kernel.invokeFunction('convertToInteractive',\n",
              "                                                     [key], {});\n",
              "          if (!dataTable) return;\n",
              "\n",
              "          const docLinkHtml = 'Like what you see? Visit the ' +\n",
              "            '<a target=\"_blank\" href=https://colab.research.google.com/notebooks/data_table.ipynb>data table notebook</a>'\n",
              "            + ' to learn more about interactive tables.';\n",
              "          element.innerHTML = '';\n",
              "          dataTable['output_type'] = 'display_data';\n",
              "          await google.colab.output.renderOutput(dataTable, element);\n",
              "          const docLink = document.createElement('div');\n",
              "          docLink.innerHTML = docLinkHtml;\n",
              "          element.appendChild(docLink);\n",
              "        }\n",
              "      </script>\n",
              "    </div>\n",
              "  </div>\n",
              "  "
            ]
          },
          "metadata": {},
          "execution_count": 95
        }
      ]
    },
    {
      "cell_type": "code",
      "source": [
        "df_wine.isna().sum()\n"
      ],
      "metadata": {
        "colab": {
          "base_uri": "https://localhost:8080/"
        },
        "id": "JPIyQKHONyvE",
        "outputId": "d3b9a5a9-988c-403a-f4ab-eb59e892ae7b"
      },
      "execution_count": 96,
      "outputs": [
        {
          "output_type": "execute_result",
          "data": {
            "text/plain": [
              "Type               0\n",
              "Alcohol            0\n",
              "Malic              0\n",
              "Ash                0\n",
              "Alcalinity         0\n",
              "Magnesium          0\n",
              "Phenols            0\n",
              "Flavanoids         0\n",
              "Nonflavanoids      0\n",
              "Proanthocyanins    0\n",
              "Color              0\n",
              "Hue                0\n",
              "Dilution           0\n",
              "Proline            0\n",
              "dtype: int64"
            ]
          },
          "metadata": {},
          "execution_count": 96
        }
      ]
    },
    {
      "cell_type": "code",
      "source": [
        "df_wine.describe()"
      ],
      "metadata": {
        "colab": {
          "base_uri": "https://localhost:8080/",
          "height": 364
        },
        "id": "MuMc_00-N-fp",
        "outputId": "1afb84b4-9c46-4beb-99fe-6d7b7b0a3467"
      },
      "execution_count": 97,
      "outputs": [
        {
          "output_type": "execute_result",
          "data": {
            "text/plain": [
              "             Type     Alcohol       Malic         Ash  Alcalinity   Magnesium  \\\n",
              "count  178.000000  178.000000  178.000000  178.000000  178.000000  178.000000   \n",
              "mean     1.938202   13.000618    2.336348    2.366517   19.494944   99.741573   \n",
              "std      0.775035    0.811827    1.117146    0.274344    3.339564   14.282484   \n",
              "min      1.000000   11.030000    0.740000    1.360000   10.600000   70.000000   \n",
              "25%      1.000000   12.362500    1.602500    2.210000   17.200000   88.000000   \n",
              "50%      2.000000   13.050000    1.865000    2.360000   19.500000   98.000000   \n",
              "75%      3.000000   13.677500    3.082500    2.557500   21.500000  107.000000   \n",
              "max      3.000000   14.830000    5.800000    3.230000   30.000000  162.000000   \n",
              "\n",
              "          Phenols  Flavanoids  Nonflavanoids  Proanthocyanins       Color  \\\n",
              "count  178.000000  178.000000     178.000000       178.000000  178.000000   \n",
              "mean     2.295112    2.029270       0.361854         1.590899    5.058090   \n",
              "std      0.625851    0.998859       0.124453         0.572359    2.318286   \n",
              "min      0.980000    0.340000       0.130000         0.410000    1.280000   \n",
              "25%      1.742500    1.205000       0.270000         1.250000    3.220000   \n",
              "50%      2.355000    2.135000       0.340000         1.555000    4.690000   \n",
              "75%      2.800000    2.875000       0.437500         1.950000    6.200000   \n",
              "max      3.880000    5.080000       0.660000         3.580000   13.000000   \n",
              "\n",
              "              Hue    Dilution      Proline  \n",
              "count  178.000000  178.000000   178.000000  \n",
              "mean     0.957449    2.611685   746.893258  \n",
              "std      0.228572    0.709990   314.907474  \n",
              "min      0.480000    1.270000   278.000000  \n",
              "25%      0.782500    1.937500   500.500000  \n",
              "50%      0.965000    2.780000   673.500000  \n",
              "75%      1.120000    3.170000   985.000000  \n",
              "max      1.710000    4.000000  1680.000000  "
            ],
            "text/html": [
              "\n",
              "  <div id=\"df-90b0251b-9fb1-4381-b2b7-a2dd1e09e07a\">\n",
              "    <div class=\"colab-df-container\">\n",
              "      <div>\n",
              "<style scoped>\n",
              "    .dataframe tbody tr th:only-of-type {\n",
              "        vertical-align: middle;\n",
              "    }\n",
              "\n",
              "    .dataframe tbody tr th {\n",
              "        vertical-align: top;\n",
              "    }\n",
              "\n",
              "    .dataframe thead th {\n",
              "        text-align: right;\n",
              "    }\n",
              "</style>\n",
              "<table border=\"1\" class=\"dataframe\">\n",
              "  <thead>\n",
              "    <tr style=\"text-align: right;\">\n",
              "      <th></th>\n",
              "      <th>Type</th>\n",
              "      <th>Alcohol</th>\n",
              "      <th>Malic</th>\n",
              "      <th>Ash</th>\n",
              "      <th>Alcalinity</th>\n",
              "      <th>Magnesium</th>\n",
              "      <th>Phenols</th>\n",
              "      <th>Flavanoids</th>\n",
              "      <th>Nonflavanoids</th>\n",
              "      <th>Proanthocyanins</th>\n",
              "      <th>Color</th>\n",
              "      <th>Hue</th>\n",
              "      <th>Dilution</th>\n",
              "      <th>Proline</th>\n",
              "    </tr>\n",
              "  </thead>\n",
              "  <tbody>\n",
              "    <tr>\n",
              "      <th>count</th>\n",
              "      <td>178.000000</td>\n",
              "      <td>178.000000</td>\n",
              "      <td>178.000000</td>\n",
              "      <td>178.000000</td>\n",
              "      <td>178.000000</td>\n",
              "      <td>178.000000</td>\n",
              "      <td>178.000000</td>\n",
              "      <td>178.000000</td>\n",
              "      <td>178.000000</td>\n",
              "      <td>178.000000</td>\n",
              "      <td>178.000000</td>\n",
              "      <td>178.000000</td>\n",
              "      <td>178.000000</td>\n",
              "      <td>178.000000</td>\n",
              "    </tr>\n",
              "    <tr>\n",
              "      <th>mean</th>\n",
              "      <td>1.938202</td>\n",
              "      <td>13.000618</td>\n",
              "      <td>2.336348</td>\n",
              "      <td>2.366517</td>\n",
              "      <td>19.494944</td>\n",
              "      <td>99.741573</td>\n",
              "      <td>2.295112</td>\n",
              "      <td>2.029270</td>\n",
              "      <td>0.361854</td>\n",
              "      <td>1.590899</td>\n",
              "      <td>5.058090</td>\n",
              "      <td>0.957449</td>\n",
              "      <td>2.611685</td>\n",
              "      <td>746.893258</td>\n",
              "    </tr>\n",
              "    <tr>\n",
              "      <th>std</th>\n",
              "      <td>0.775035</td>\n",
              "      <td>0.811827</td>\n",
              "      <td>1.117146</td>\n",
              "      <td>0.274344</td>\n",
              "      <td>3.339564</td>\n",
              "      <td>14.282484</td>\n",
              "      <td>0.625851</td>\n",
              "      <td>0.998859</td>\n",
              "      <td>0.124453</td>\n",
              "      <td>0.572359</td>\n",
              "      <td>2.318286</td>\n",
              "      <td>0.228572</td>\n",
              "      <td>0.709990</td>\n",
              "      <td>314.907474</td>\n",
              "    </tr>\n",
              "    <tr>\n",
              "      <th>min</th>\n",
              "      <td>1.000000</td>\n",
              "      <td>11.030000</td>\n",
              "      <td>0.740000</td>\n",
              "      <td>1.360000</td>\n",
              "      <td>10.600000</td>\n",
              "      <td>70.000000</td>\n",
              "      <td>0.980000</td>\n",
              "      <td>0.340000</td>\n",
              "      <td>0.130000</td>\n",
              "      <td>0.410000</td>\n",
              "      <td>1.280000</td>\n",
              "      <td>0.480000</td>\n",
              "      <td>1.270000</td>\n",
              "      <td>278.000000</td>\n",
              "    </tr>\n",
              "    <tr>\n",
              "      <th>25%</th>\n",
              "      <td>1.000000</td>\n",
              "      <td>12.362500</td>\n",
              "      <td>1.602500</td>\n",
              "      <td>2.210000</td>\n",
              "      <td>17.200000</td>\n",
              "      <td>88.000000</td>\n",
              "      <td>1.742500</td>\n",
              "      <td>1.205000</td>\n",
              "      <td>0.270000</td>\n",
              "      <td>1.250000</td>\n",
              "      <td>3.220000</td>\n",
              "      <td>0.782500</td>\n",
              "      <td>1.937500</td>\n",
              "      <td>500.500000</td>\n",
              "    </tr>\n",
              "    <tr>\n",
              "      <th>50%</th>\n",
              "      <td>2.000000</td>\n",
              "      <td>13.050000</td>\n",
              "      <td>1.865000</td>\n",
              "      <td>2.360000</td>\n",
              "      <td>19.500000</td>\n",
              "      <td>98.000000</td>\n",
              "      <td>2.355000</td>\n",
              "      <td>2.135000</td>\n",
              "      <td>0.340000</td>\n",
              "      <td>1.555000</td>\n",
              "      <td>4.690000</td>\n",
              "      <td>0.965000</td>\n",
              "      <td>2.780000</td>\n",
              "      <td>673.500000</td>\n",
              "    </tr>\n",
              "    <tr>\n",
              "      <th>75%</th>\n",
              "      <td>3.000000</td>\n",
              "      <td>13.677500</td>\n",
              "      <td>3.082500</td>\n",
              "      <td>2.557500</td>\n",
              "      <td>21.500000</td>\n",
              "      <td>107.000000</td>\n",
              "      <td>2.800000</td>\n",
              "      <td>2.875000</td>\n",
              "      <td>0.437500</td>\n",
              "      <td>1.950000</td>\n",
              "      <td>6.200000</td>\n",
              "      <td>1.120000</td>\n",
              "      <td>3.170000</td>\n",
              "      <td>985.000000</td>\n",
              "    </tr>\n",
              "    <tr>\n",
              "      <th>max</th>\n",
              "      <td>3.000000</td>\n",
              "      <td>14.830000</td>\n",
              "      <td>5.800000</td>\n",
              "      <td>3.230000</td>\n",
              "      <td>30.000000</td>\n",
              "      <td>162.000000</td>\n",
              "      <td>3.880000</td>\n",
              "      <td>5.080000</td>\n",
              "      <td>0.660000</td>\n",
              "      <td>3.580000</td>\n",
              "      <td>13.000000</td>\n",
              "      <td>1.710000</td>\n",
              "      <td>4.000000</td>\n",
              "      <td>1680.000000</td>\n",
              "    </tr>\n",
              "  </tbody>\n",
              "</table>\n",
              "</div>\n",
              "      <button class=\"colab-df-convert\" onclick=\"convertToInteractive('df-90b0251b-9fb1-4381-b2b7-a2dd1e09e07a')\"\n",
              "              title=\"Convert this dataframe to an interactive table.\"\n",
              "              style=\"display:none;\">\n",
              "        \n",
              "  <svg xmlns=\"http://www.w3.org/2000/svg\" height=\"24px\"viewBox=\"0 0 24 24\"\n",
              "       width=\"24px\">\n",
              "    <path d=\"M0 0h24v24H0V0z\" fill=\"none\"/>\n",
              "    <path d=\"M18.56 5.44l.94 2.06.94-2.06 2.06-.94-2.06-.94-.94-2.06-.94 2.06-2.06.94zm-11 1L8.5 8.5l.94-2.06 2.06-.94-2.06-.94L8.5 2.5l-.94 2.06-2.06.94zm10 10l.94 2.06.94-2.06 2.06-.94-2.06-.94-.94-2.06-.94 2.06-2.06.94z\"/><path d=\"M17.41 7.96l-1.37-1.37c-.4-.4-.92-.59-1.43-.59-.52 0-1.04.2-1.43.59L10.3 9.45l-7.72 7.72c-.78.78-.78 2.05 0 2.83L4 21.41c.39.39.9.59 1.41.59.51 0 1.02-.2 1.41-.59l7.78-7.78 2.81-2.81c.8-.78.8-2.07 0-2.86zM5.41 20L4 18.59l7.72-7.72 1.47 1.35L5.41 20z\"/>\n",
              "  </svg>\n",
              "      </button>\n",
              "      \n",
              "  <style>\n",
              "    .colab-df-container {\n",
              "      display:flex;\n",
              "      flex-wrap:wrap;\n",
              "      gap: 12px;\n",
              "    }\n",
              "\n",
              "    .colab-df-convert {\n",
              "      background-color: #E8F0FE;\n",
              "      border: none;\n",
              "      border-radius: 50%;\n",
              "      cursor: pointer;\n",
              "      display: none;\n",
              "      fill: #1967D2;\n",
              "      height: 32px;\n",
              "      padding: 0 0 0 0;\n",
              "      width: 32px;\n",
              "    }\n",
              "\n",
              "    .colab-df-convert:hover {\n",
              "      background-color: #E2EBFA;\n",
              "      box-shadow: 0px 1px 2px rgba(60, 64, 67, 0.3), 0px 1px 3px 1px rgba(60, 64, 67, 0.15);\n",
              "      fill: #174EA6;\n",
              "    }\n",
              "\n",
              "    [theme=dark] .colab-df-convert {\n",
              "      background-color: #3B4455;\n",
              "      fill: #D2E3FC;\n",
              "    }\n",
              "\n",
              "    [theme=dark] .colab-df-convert:hover {\n",
              "      background-color: #434B5C;\n",
              "      box-shadow: 0px 1px 3px 1px rgba(0, 0, 0, 0.15);\n",
              "      filter: drop-shadow(0px 1px 2px rgba(0, 0, 0, 0.3));\n",
              "      fill: #FFFFFF;\n",
              "    }\n",
              "  </style>\n",
              "\n",
              "      <script>\n",
              "        const buttonEl =\n",
              "          document.querySelector('#df-90b0251b-9fb1-4381-b2b7-a2dd1e09e07a button.colab-df-convert');\n",
              "        buttonEl.style.display =\n",
              "          google.colab.kernel.accessAllowed ? 'block' : 'none';\n",
              "\n",
              "        async function convertToInteractive(key) {\n",
              "          const element = document.querySelector('#df-90b0251b-9fb1-4381-b2b7-a2dd1e09e07a');\n",
              "          const dataTable =\n",
              "            await google.colab.kernel.invokeFunction('convertToInteractive',\n",
              "                                                     [key], {});\n",
              "          if (!dataTable) return;\n",
              "\n",
              "          const docLinkHtml = 'Like what you see? Visit the ' +\n",
              "            '<a target=\"_blank\" href=https://colab.research.google.com/notebooks/data_table.ipynb>data table notebook</a>'\n",
              "            + ' to learn more about interactive tables.';\n",
              "          element.innerHTML = '';\n",
              "          dataTable['output_type'] = 'display_data';\n",
              "          await google.colab.output.renderOutput(dataTable, element);\n",
              "          const docLink = document.createElement('div');\n",
              "          docLink.innerHTML = docLinkHtml;\n",
              "          element.appendChild(docLink);\n",
              "        }\n",
              "      </script>\n",
              "    </div>\n",
              "  </div>\n",
              "  "
            ]
          },
          "metadata": {},
          "execution_count": 97
        }
      ]
    },
    {
      "cell_type": "code",
      "source": [
        "# Considering only numerical data \n",
        "wine=df_wine.iloc[:,1:]\n",
        "wine=wine.values\n",
        "wine"
      ],
      "metadata": {
        "colab": {
          "base_uri": "https://localhost:8080/"
        },
        "id": "JBpI9-jUZ8Q3",
        "outputId": "3e1db9bc-3b7e-4ccf-ed4e-0139305f4a1d"
      },
      "execution_count": 98,
      "outputs": [
        {
          "output_type": "execute_result",
          "data": {
            "text/plain": [
              "array([[1.423e+01, 1.710e+00, 2.430e+00, ..., 1.040e+00, 3.920e+00,\n",
              "        1.065e+03],\n",
              "       [1.320e+01, 1.780e+00, 2.140e+00, ..., 1.050e+00, 3.400e+00,\n",
              "        1.050e+03],\n",
              "       [1.316e+01, 2.360e+00, 2.670e+00, ..., 1.030e+00, 3.170e+00,\n",
              "        1.185e+03],\n",
              "       ...,\n",
              "       [1.327e+01, 4.280e+00, 2.260e+00, ..., 5.900e-01, 1.560e+00,\n",
              "        8.350e+02],\n",
              "       [1.317e+01, 2.590e+00, 2.370e+00, ..., 6.000e-01, 1.620e+00,\n",
              "        8.400e+02],\n",
              "       [1.413e+01, 4.100e+00, 2.740e+00, ..., 6.100e-01, 1.600e+00,\n",
              "        5.600e+02]])"
            ]
          },
          "metadata": {},
          "execution_count": 98
        }
      ]
    },
    {
      "cell_type": "code",
      "source": [
        "#Stadardizing the data set\n",
        "wine_data=scale(wine)\n",
        "wine_data"
      ],
      "metadata": {
        "colab": {
          "base_uri": "https://localhost:8080/"
        },
        "id": "lmhtr2B8b6yP",
        "outputId": "a248b433-7edb-46e4-9c8f-20db5e3ca8e3"
      },
      "execution_count": 100,
      "outputs": [
        {
          "output_type": "execute_result",
          "data": {
            "text/plain": [
              "array([[ 1.51861254, -0.5622498 ,  0.23205254, ...,  0.36217728,\n",
              "         1.84791957,  1.01300893],\n",
              "       [ 0.24628963, -0.49941338, -0.82799632, ...,  0.40605066,\n",
              "         1.1134493 ,  0.96524152],\n",
              "       [ 0.19687903,  0.02123125,  1.10933436, ...,  0.31830389,\n",
              "         0.78858745,  1.39514818],\n",
              "       ...,\n",
              "       [ 0.33275817,  1.74474449, -0.38935541, ..., -1.61212515,\n",
              "        -1.48544548,  0.28057537],\n",
              "       [ 0.20923168,  0.22769377,  0.01273209, ..., -1.56825176,\n",
              "        -1.40069891,  0.29649784],\n",
              "       [ 1.39508604,  1.58316512,  1.36520822, ..., -1.52437837,\n",
              "        -1.42894777, -0.59516041]])"
            ]
          },
          "metadata": {},
          "execution_count": 100
        }
      ]
    },
    {
      "cell_type": "code",
      "source": [
        "pca=PCA()\n",
        "pca_values=pca.fit_transform(data1)\n",
        "pca_values"
      ],
      "metadata": {
        "colab": {
          "base_uri": "https://localhost:8080/"
        },
        "id": "mGo7r43gb9pF",
        "outputId": "7900eac4-68b2-47da-d1af-5e9f03cdf0bf"
      },
      "execution_count": 72,
      "outputs": [
        {
          "output_type": "execute_result",
          "data": {
            "text/plain": [
              "array([[ 3.31675081e+00, -1.44346263e+00, -1.65739045e-01, ...,\n",
              "        -4.51563395e-01,  5.40810414e-01, -6.62386309e-02],\n",
              "       [ 2.20946492e+00,  3.33392887e-01, -2.02645737e+00, ...,\n",
              "        -1.42657306e-01,  3.88237741e-01,  3.63650247e-03],\n",
              "       [ 2.51674015e+00, -1.03115130e+00,  9.82818670e-01, ...,\n",
              "        -2.86672847e-01,  5.83573183e-04,  2.17165104e-02],\n",
              "       ...,\n",
              "       [-2.67783946e+00, -2.76089913e+00, -9.40941877e-01, ...,\n",
              "         5.12492025e-01,  6.98766451e-01,  7.20776948e-02],\n",
              "       [-2.38701709e+00, -2.29734668e+00, -5.50696197e-01, ...,\n",
              "         2.99821968e-01,  3.39820654e-01, -2.18657605e-02],\n",
              "       [-3.20875816e+00, -2.76891957e+00,  1.01391366e+00, ...,\n",
              "        -2.29964331e-01, -1.88787963e-01, -3.23964720e-01]])"
            ]
          },
          "metadata": {},
          "execution_count": 72
        }
      ]
    },
    {
      "cell_type": "code",
      "source": [
        "pca=PCA(n_components=13)\n",
        "pca_values=pca.fit_transform(wine_data)\n",
        "pca_values"
      ],
      "metadata": {
        "colab": {
          "base_uri": "https://localhost:8080/"
        },
        "id": "Glt-f59XcAPU",
        "outputId": "6a11b375-eefa-4cc7-819f-f982f8d2f1f8"
      },
      "execution_count": 101,
      "outputs": [
        {
          "output_type": "execute_result",
          "data": {
            "text/plain": [
              "array([[ 3.31675081e+00, -1.44346263e+00, -1.65739045e-01, ...,\n",
              "        -4.51563395e-01,  5.40810414e-01, -6.62386309e-02],\n",
              "       [ 2.20946492e+00,  3.33392887e-01, -2.02645737e+00, ...,\n",
              "        -1.42657306e-01,  3.88237741e-01,  3.63650247e-03],\n",
              "       [ 2.51674015e+00, -1.03115130e+00,  9.82818670e-01, ...,\n",
              "        -2.86672847e-01,  5.83573183e-04,  2.17165104e-02],\n",
              "       ...,\n",
              "       [-2.67783946e+00, -2.76089913e+00, -9.40941877e-01, ...,\n",
              "         5.12492025e-01,  6.98766451e-01,  7.20776948e-02],\n",
              "       [-2.38701709e+00, -2.29734668e+00, -5.50696197e-01, ...,\n",
              "         2.99821968e-01,  3.39820654e-01, -2.18657605e-02],\n",
              "       [-3.20875816e+00, -2.76891957e+00,  1.01391366e+00, ...,\n",
              "        -2.29964331e-01, -1.88787963e-01, -3.23964720e-01]])"
            ]
          },
          "metadata": {},
          "execution_count": 101
        }
      ]
    },
    {
      "cell_type": "code",
      "source": [
        "# The amount of variance that each PCA explains is \n",
        "var=pca.explained_variance_ratio_\n",
        "var"
      ],
      "metadata": {
        "colab": {
          "base_uri": "https://localhost:8080/"
        },
        "id": "H-QyV10RcC8z",
        "outputId": "69d20c45-10c5-4810-fdf2-7487917a3e79"
      },
      "execution_count": 102,
      "outputs": [
        {
          "output_type": "execute_result",
          "data": {
            "text/plain": [
              "array([0.36198848, 0.1920749 , 0.11123631, 0.0706903 , 0.06563294,\n",
              "       0.04935823, 0.04238679, 0.02680749, 0.02222153, 0.01930019,\n",
              "       0.01736836, 0.01298233, 0.00795215])"
            ]
          },
          "metadata": {},
          "execution_count": 102
        }
      ]
    },
    {
      "cell_type": "code",
      "source": [
        "var1=np.cumsum(np.round(var,4)*100)\n",
        "var1"
      ],
      "metadata": {
        "colab": {
          "base_uri": "https://localhost:8080/"
        },
        "id": "xMLgdK1bcFf1",
        "outputId": "a4b28a94-e8cd-4fe1-c223-0ab97d34b497"
      },
      "execution_count": 103,
      "outputs": [
        {
          "output_type": "execute_result",
          "data": {
            "text/plain": [
              "array([ 36.2 ,  55.41,  66.53,  73.6 ,  80.16,  85.1 ,  89.34,  92.02,\n",
              "        94.24,  96.17,  97.91,  99.21, 100.01])"
            ]
          },
          "metadata": {},
          "execution_count": 103
        }
      ]
    },
    {
      "cell_type": "code",
      "source": [
        "plt.plot(var1, color='green')"
      ],
      "metadata": {
        "colab": {
          "base_uri": "https://localhost:8080/",
          "height": 282
        },
        "id": "HCacMrZ3cINw",
        "outputId": "13990a0e-bc0f-4016-d1da-a0279cde9712"
      },
      "execution_count": 104,
      "outputs": [
        {
          "output_type": "execute_result",
          "data": {
            "text/plain": [
              "[<matplotlib.lines.Line2D at 0x7f3a77c42f50>]"
            ]
          },
          "metadata": {},
          "execution_count": 104
        },
        {
          "output_type": "display_data",
          "data": {
            "text/plain": [
              "<Figure size 432x288 with 1 Axes>"
            ],
            "image/png": "[encoded data removed]"
          },
          "metadata": {
            "needs_background": "light"
          }
        }
      ]
    },
    {
      "cell_type": "code",
      "source": [
        "wine_data2=pd.DataFrame(pca_values[:,0:3], columns=['pc1','pc2','pc3'])\n",
        "wine_data2"
      ],
      "metadata": {
        "colab": {
          "base_uri": "https://localhost:8080/",
          "height": 424
        },
        "id": "OV89EpRccLEk",
        "outputId": "34c2dcc6-60d2-43c4-a135-bfec715d6d68"
      },
      "execution_count": 105,
      "outputs": [
        {
          "output_type": "execute_result",
          "data": {
            "text/plain": [
              "          pc1       pc2       pc3\n",
              "0    3.316751 -1.443463 -0.165739\n",
              "1    2.209465  0.333393 -2.026457\n",
              "2    2.516740 -1.031151  0.982819\n",
              "3    3.757066 -2.756372 -0.176192\n",
              "4    1.008908 -0.869831  2.026688\n",
              "..        ...       ...       ...\n",
              "173 -3.370524 -2.216289 -0.342570\n",
              "174 -2.601956 -1.757229  0.207581\n",
              "175 -2.677839 -2.760899 -0.940942\n",
              "176 -2.387017 -2.297347 -0.550696\n",
              "177 -3.208758 -2.768920  1.013914\n",
              "\n",
              "[178 rows x 3 columns]"
            ],
            "text/html": [
              "\n",
              "  <div id=\"df-0c637f85-a081-4f7b-ba3b-effa058556a5\">\n",
              "    <div class=\"colab-df-container\">\n",
              "      <div>\n",
              "<style scoped>\n",
              "    .dataframe tbody tr th:only-of-type {\n",
              "        vertical-align: middle;\n",
              "    }\n",
              "\n",
              "    .dataframe tbody tr th {\n",
              "        vertical-align: top;\n",
              "    }\n",
              "\n",
              "    .dataframe thead th {\n",
              "        text-align: right;\n",
              "    }\n",
              "</style>\n",
              "<table border=\"1\" class=\"dataframe\">\n",
              "  <thead>\n",
              "    <tr style=\"text-align: right;\">\n",
              "      <th></th>\n",
              "      <th>pc1</th>\n",
              "      <th>pc2</th>\n",
              "      <th>pc3</th>\n",
              "    </tr>\n",
              "  </thead>\n",
              "  <tbody>\n",
              "    <tr>\n",
              "      <th>0</th>\n",
              "      <td>3.316751</td>\n",
              "      <td>-1.443463</td>\n",
              "      <td>-0.165739</td>\n",
              "    </tr>\n",
              "    <tr>\n",
              "      <th>1</th>\n",
              "      <td>2.209465</td>\n",
              "      <td>0.333393</td>\n",
              "      <td>-2.026457</td>\n",
              "    </tr>\n",
              "    <tr>\n",
              "      <th>2</th>\n",
              "      <td>2.516740</td>\n",
              "      <td>-1.031151</td>\n",
              "      <td>0.982819</td>\n",
              "    </tr>\n",
              "    <tr>\n",
              "      <th>3</th>\n",
              "      <td>3.757066</td>\n",
              "      <td>-2.756372</td>\n",
              "      <td>-0.176192</td>\n",
              "    </tr>\n",
              "    <tr>\n",
              "      <th>4</th>\n",
              "      <td>1.008908</td>\n",
              "      <td>-0.869831</td>\n",
              "      <td>2.026688</td>\n",
              "    </tr>\n",
              "    <tr>\n",
              "      <th>...</th>\n",
              "      <td>...</td>\n",
              "      <td>...</td>\n",
              "      <td>...</td>\n",
              "    </tr>\n",
              "    <tr>\n",
              "      <th>173</th>\n",
              "      <td>-3.370524</td>\n",
              "      <td>-2.216289</td>\n",
              "      <td>-0.342570</td>\n",
              "    </tr>\n",
              "    <tr>\n",
              "      <th>174</th>\n",
              "      <td>-2.601956</td>\n",
              "      <td>-1.757229</td>\n",
              "      <td>0.207581</td>\n",
              "    </tr>\n",
              "    <tr>\n",
              "      <th>175</th>\n",
              "      <td>-2.677839</td>\n",
              "      <td>-2.760899</td>\n",
              "      <td>-0.940942</td>\n",
              "    </tr>\n",
              "    <tr>\n",
              "      <th>176</th>\n",
              "      <td>-2.387017</td>\n",
              "      <td>-2.297347</td>\n",
              "      <td>-0.550696</td>\n",
              "    </tr>\n",
              "    <tr>\n",
              "      <th>177</th>\n",
              "      <td>-3.208758</td>\n",
              "      <td>-2.768920</td>\n",
              "      <td>1.013914</td>\n",
              "    </tr>\n",
              "  </tbody>\n",
              "</table>\n",
              "<p>178 rows × 3 columns</p>\n",
              "</div>\n",
              "      <button class=\"colab-df-convert\" onclick=\"convertToInteractive('df-0c637f85-a081-4f7b-ba3b-effa058556a5')\"\n",
              "              title=\"Convert this dataframe to an interactive table.\"\n",
              "              style=\"display:none;\">\n",
              "        \n",
              "  <svg xmlns=\"http://www.w3.org/2000/svg\" height=\"24px\"viewBox=\"0 0 24 24\"\n",
              "       width=\"24px\">\n",
              "    <path d=\"M0 0h24v24H0V0z\" fill=\"none\"/>\n",
              "    <path d=\"M18.56 5.44l.94 2.06.94-2.06 2.06-.94-2.06-.94-.94-2.06-.94 2.06-2.06.94zm-11 1L8.5 8.5l.94-2.06 2.06-.94-2.06-.94L8.5 2.5l-.94 2.06-2.06.94zm10 10l.94 2.06.94-2.06 2.06-.94-2.06-.94-.94-2.06-.94 2.06-2.06.94z\"/><path d=\"M17.41 7.96l-1.37-1.37c-.4-.4-.92-.59-1.43-.59-.52 0-1.04.2-1.43.59L10.3 9.45l-7.72 7.72c-.78.78-.78 2.05 0 2.83L4 21.41c.39.39.9.59 1.41.59.51 0 1.02-.2 1.41-.59l7.78-7.78 2.81-2.81c.8-.78.8-2.07 0-2.86zM5.41 20L4 18.59l7.72-7.72 1.47 1.35L5.41 20z\"/>\n",
              "  </svg>\n",
              "      </button>\n",
              "      \n",
              "  <style>\n",
              "    .colab-df-container {\n",
              "      display:flex;\n",
              "      flex-wrap:wrap;\n",
              "      gap: 12px;\n",
              "    }\n",
              "\n",
              "    .colab-df-convert {\n",
              "      background-color: #E8F0FE;\n",
              "      border: none;\n",
              "      border-radius: 50%;\n",
              "      cursor: pointer;\n",
              "      display: none;\n",
              "      fill: #1967D2;\n",
              "      height: 32px;\n",
              "      padding: 0 0 0 0;\n",
              "      width: 32px;\n",
              "    }\n",
              "\n",
              "    .colab-df-convert:hover {\n",
              "      background-color: #E2EBFA;\n",
              "      box-shadow: 0px 1px 2px rgba(60, 64, 67, 0.3), 0px 1px 3px 1px rgba(60, 64, 67, 0.15);\n",
              "      fill: #174EA6;\n",
              "    }\n",
              "\n",
              "    [theme=dark] .colab-df-convert {\n",
              "      background-color: #3B4455;\n",
              "      fill: #D2E3FC;\n",
              "    }\n",
              "\n",
              "    [theme=dark] .colab-df-convert:hover {\n",
              "      background-color: #434B5C;\n",
              "      box-shadow: 0px 1px 3px 1px rgba(0, 0, 0, 0.15);\n",
              "      filter: drop-shadow(0px 1px 2px rgba(0, 0, 0, 0.3));\n",
              "      fill: #FFFFFF;\n",
              "    }\n",
              "  </style>\n",
              "\n",
              "      <script>\n",
              "        const buttonEl =\n",
              "          document.querySelector('#df-0c637f85-a081-4f7b-ba3b-effa058556a5 button.colab-df-convert');\n",
              "        buttonEl.style.display =\n",
              "          google.colab.kernel.accessAllowed ? 'block' : 'none';\n",
              "\n",
              "        async function convertToInteractive(key) {\n",
              "          const element = document.querySelector('#df-0c637f85-a081-4f7b-ba3b-effa058556a5');\n",
              "          const dataTable =\n",
              "            await google.colab.kernel.invokeFunction('convertToInteractive',\n",
              "                                                     [key], {});\n",
              "          if (!dataTable) return;\n",
              "\n",
              "          const docLinkHtml = 'Like what you see? Visit the ' +\n",
              "            '<a target=\"_blank\" href=https://colab.research.google.com/notebooks/data_table.ipynb>data table notebook</a>'\n",
              "            + ' to learn more about interactive tables.';\n",
              "          element.innerHTML = '';\n",
              "          dataTable['output_type'] = 'display_data';\n",
              "          await google.colab.output.renderOutput(dataTable, element);\n",
              "          const docLink = document.createElement('div');\n",
              "          docLink.innerHTML = docLinkHtml;\n",
              "          element.appendChild(docLink);\n",
              "        }\n",
              "      </script>\n",
              "    </div>\n",
              "  </div>\n",
              "  "
            ]
          },
          "metadata": {},
          "execution_count": 105
        }
      ]
    },
    {
      "cell_type": "code",
      "source": [
        "wine_data3=pd.concat([wine_data2,df['Type']],axis=1)\n",
        "wine_data3.head()"
      ],
      "metadata": {
        "colab": {
          "base_uri": "https://localhost:8080/",
          "height": 206
        },
        "id": "KGZbFmjxcN5s",
        "outputId": "94d18997-b935-4185-f09d-4bdb872950d9"
      },
      "execution_count": 106,
      "outputs": [
        {
          "output_type": "execute_result",
          "data": {
            "text/plain": [
              "        pc1       pc2       pc3  Type\n",
              "0  3.316751 -1.443463 -0.165739     1\n",
              "1  2.209465  0.333393 -2.026457     1\n",
              "2  2.516740 -1.031151  0.982819     1\n",
              "3  3.757066 -2.756372 -0.176192     1\n",
              "4  1.008908 -0.869831  2.026688     1"
            ],
            "text/html": [
              "\n",
              "  <div id=\"df-3d6b6c24-0840-4bae-9ec9-e7bc0ee88def\">\n",
              "    <div class=\"colab-df-container\">\n",
              "      <div>\n",
              "<style scoped>\n",
              "    .dataframe tbody tr th:only-of-type {\n",
              "        vertical-align: middle;\n",
              "    }\n",
              "\n",
              "    .dataframe tbody tr th {\n",
              "        vertical-align: top;\n",
              "    }\n",
              "\n",
              "    .dataframe thead th {\n",
              "        text-align: right;\n",
              "    }\n",
              "</style>\n",
              "<table border=\"1\" class=\"dataframe\">\n",
              "  <thead>\n",
              "    <tr style=\"text-align: right;\">\n",
              "      <th></th>\n",
              "      <th>pc1</th>\n",
              "      <th>pc2</th>\n",
              "      <th>pc3</th>\n",
              "      <th>Type</th>\n",
              "    </tr>\n",
              "  </thead>\n",
              "  <tbody>\n",
              "    <tr>\n",
              "      <th>0</th>\n",
              "      <td>3.316751</td>\n",
              "      <td>-1.443463</td>\n",
              "      <td>-0.165739</td>\n",
              "      <td>1</td>\n",
              "    </tr>\n",
              "    <tr>\n",
              "      <th>1</th>\n",
              "      <td>2.209465</td>\n",
              "      <td>0.333393</td>\n",
              "      <td>-2.026457</td>\n",
              "      <td>1</td>\n",
              "    </tr>\n",
              "    <tr>\n",
              "      <th>2</th>\n",
              "      <td>2.516740</td>\n",
              "      <td>-1.031151</td>\n",
              "      <td>0.982819</td>\n",
              "      <td>1</td>\n",
              "    </tr>\n",
              "    <tr>\n",
              "      <th>3</th>\n",
              "      <td>3.757066</td>\n",
              "      <td>-2.756372</td>\n",
              "      <td>-0.176192</td>\n",
              "      <td>1</td>\n",
              "    </tr>\n",
              "    <tr>\n",
              "      <th>4</th>\n",
              "      <td>1.008908</td>\n",
              "      <td>-0.869831</td>\n",
              "      <td>2.026688</td>\n",
              "      <td>1</td>\n",
              "    </tr>\n",
              "  </tbody>\n",
              "</table>\n",
              "</div>\n",
              "      <button class=\"colab-df-convert\" onclick=\"convertToInteractive('df-3d6b6c24-0840-4bae-9ec9-e7bc0ee88def')\"\n",
              "              title=\"Convert this dataframe to an interactive table.\"\n",
              "              style=\"display:none;\">\n",
              "        \n",
              "  <svg xmlns=\"http://www.w3.org/2000/svg\" height=\"24px\"viewBox=\"0 0 24 24\"\n",
              "       width=\"24px\">\n",
              "    <path d=\"M0 0h24v24H0V0z\" fill=\"none\"/>\n",
              "    <path d=\"M18.56 5.44l.94 2.06.94-2.06 2.06-.94-2.06-.94-.94-2.06-.94 2.06-2.06.94zm-11 1L8.5 8.5l.94-2.06 2.06-.94-2.06-.94L8.5 2.5l-.94 2.06-2.06.94zm10 10l.94 2.06.94-2.06 2.06-.94-2.06-.94-.94-2.06-.94 2.06-2.06.94z\"/><path d=\"M17.41 7.96l-1.37-1.37c-.4-.4-.92-.59-1.43-.59-.52 0-1.04.2-1.43.59L10.3 9.45l-7.72 7.72c-.78.78-.78 2.05 0 2.83L4 21.41c.39.39.9.59 1.41.59.51 0 1.02-.2 1.41-.59l7.78-7.78 2.81-2.81c.8-.78.8-2.07 0-2.86zM5.41 20L4 18.59l7.72-7.72 1.47 1.35L5.41 20z\"/>\n",
              "  </svg>\n",
              "      </button>\n",
              "      \n",
              "  <style>\n",
              "    .colab-df-container {\n",
              "      display:flex;\n",
              "      flex-wrap:wrap;\n",
              "      gap: 12px;\n",
              "    }\n",
              "\n",
              "    .colab-df-convert {\n",
              "      background-color: #E8F0FE;\n",
              "      border: none;\n",
              "      border-radius: 50%;\n",
              "      cursor: pointer;\n",
              "      display: none;\n",
              "      fill: #1967D2;\n",
              "      height: 32px;\n",
              "      padding: 0 0 0 0;\n",
              "      width: 32px;\n",
              "    }\n",
              "\n",
              "    .colab-df-convert:hover {\n",
              "      background-color: #E2EBFA;\n",
              "      box-shadow: 0px 1px 2px rgba(60, 64, 67, 0.3), 0px 1px 3px 1px rgba(60, 64, 67, 0.15);\n",
              "      fill: #174EA6;\n",
              "    }\n",
              "\n",
              "    [theme=dark] .colab-df-convert {\n",
              "      background-color: #3B4455;\n",
              "      fill: #D2E3FC;\n",
              "    }\n",
              "\n",
              "    [theme=dark] .colab-df-convert:hover {\n",
              "      background-color: #434B5C;\n",
              "      box-shadow: 0px 1px 3px 1px rgba(0, 0, 0, 0.15);\n",
              "      filter: drop-shadow(0px 1px 2px rgba(0, 0, 0, 0.3));\n",
              "      fill: #FFFFFF;\n",
              "    }\n",
              "  </style>\n",
              "\n",
              "      <script>\n",
              "        const buttonEl =\n",
              "          document.querySelector('#df-3d6b6c24-0840-4bae-9ec9-e7bc0ee88def button.colab-df-convert');\n",
              "        buttonEl.style.display =\n",
              "          google.colab.kernel.accessAllowed ? 'block' : 'none';\n",
              "\n",
              "        async function convertToInteractive(key) {\n",
              "          const element = document.querySelector('#df-3d6b6c24-0840-4bae-9ec9-e7bc0ee88def');\n",
              "          const dataTable =\n",
              "            await google.colab.kernel.invokeFunction('convertToInteractive',\n",
              "                                                     [key], {});\n",
              "          if (!dataTable) return;\n",
              "\n",
              "          const docLinkHtml = 'Like what you see? Visit the ' +\n",
              "            '<a target=\"_blank\" href=https://colab.research.google.com/notebooks/data_table.ipynb>data table notebook</a>'\n",
              "            + ' to learn more about interactive tables.';\n",
              "          element.innerHTML = '';\n",
              "          dataTable['output_type'] = 'display_data';\n",
              "          await google.colab.output.renderOutput(dataTable, element);\n",
              "          const docLink = document.createElement('div');\n",
              "          docLink.innerHTML = docLinkHtml;\n",
              "          element.appendChild(docLink);\n",
              "        }\n",
              "      </script>\n",
              "    </div>\n",
              "  </div>\n",
              "  "
            ]
          },
          "metadata": {},
          "execution_count": 106
        }
      ]
    },
    {
      "cell_type": "code",
      "source": [
        "sns.scatterplot(data=wine_data3,x='pc1',y='pc2', hue='Type')"
      ],
      "metadata": {
        "colab": {
          "base_uri": "https://localhost:8080/",
          "height": 296
        },
        "id": "YXBuQSf8cQ4V",
        "outputId": "de815493-ef91-44c6-f911-6b1ca99034d2"
      },
      "execution_count": 107,
      "outputs": [
        {
          "output_type": "execute_result",
          "data": {
            "text/plain": [
              "<matplotlib.axes._subplots.AxesSubplot at 0x7f3a77b3fdd0>"
            ]
          },
          "metadata": {},
          "execution_count": 107
        },
        {
          "output_type": "display_data",
          "data": {
            "text/plain": [
              "<Figure size 432x288 with 1 Axes>"
            ],
            "image/png": "[encoded data removed]"
          },
          "metadata": {
            "needs_background": "light"
          }
        }
      ]
    },
    {
      "cell_type": "code",
      "source": [
        "sns.scatterplot(data=wine_data3,x='pc1',y='pc3', hue='Type')"
      ],
      "metadata": {
        "colab": {
          "base_uri": "https://localhost:8080/",
          "height": 296
        },
        "id": "PqL0RizvcT-j",
        "outputId": "49ec1c42-a007-406a-d065-c570898a27ae"
      },
      "execution_count": 108,
      "outputs": [
        {
          "output_type": "execute_result",
          "data": {
            "text/plain": [
              "<matplotlib.axes._subplots.AxesSubplot at 0x7f3a77ac81d0>"
            ]
          },
          "metadata": {},
          "execution_count": 108
        },
        {
          "output_type": "display_data",
          "data": {
            "text/plain": [
              "<Figure size 432x288 with 1 Axes>"
            ],
            "image/png": "[encoded data removed]"
          },
          "metadata": {
            "needs_background": "light"
          }
        }
      ]
    },
    {
      "cell_type": "code",
      "source": [
        "sns.scatterplot(data=wine_data3,x='pc2',y='pc3', hue='Type')"
      ],
      "metadata": {
        "colab": {
          "base_uri": "https://localhost:8080/",
          "height": 296
        },
        "id": "zDVkiIWscW5A",
        "outputId": "3babfdbf-4b7e-4113-d97f-ba1914e602f0"
      },
      "execution_count": 109,
      "outputs": [
        {
          "output_type": "execute_result",
          "data": {
            "text/plain": [
              "<matplotlib.axes._subplots.AxesSubplot at 0x7f3a77ab6a90>"
            ]
          },
          "metadata": {},
          "execution_count": 109
        },
        {
          "output_type": "display_data",
          "data": {
            "text/plain": [
              "<Figure size 432x288 with 1 Axes>"
            ],
            "image/png": "[encoded data removed]"
          },
          "metadata": {
            "needs_background": "light"
          }
        }
      ]
    },
    {
      "cell_type": "markdown",
      "source": [
        "#Hierachical Clustering"
      ],
      "metadata": {
        "id": "rIiMmh4lccli"
      }
    },
    {
      "cell_type": "code",
      "source": [
        "#To find number of clusters\n",
        "\n",
        "import scipy.cluster.hierarchy as sch\n",
        "from sklearn.cluster import AgglomerativeClustering\n",
        "from sklearn.preprocessing import MinMaxScaler"
      ],
      "metadata": {
        "id": "h480iabccio_"
      },
      "execution_count": 82,
      "outputs": []
    },
    {
      "cell_type": "code",
      "source": [
        "X=MinMaxScaler().fit_transform(wine_data3)\n",
        "X"
      ],
      "metadata": {
        "colab": {
          "base_uri": "https://localhost:8080/"
        },
        "id": "32z6FC6Scj90",
        "outputId": "f0b3d993-34fa-42c8-c2c7-3b7850b8ac36"
      },
      "execution_count": 110,
      "outputs": [
        {
          "output_type": "execute_result",
          "data": {
            "text/plain": [
              "array([[0.88409355, 0.28044707, 0.44502757, 0.        ],\n",
              "       [0.75524083, 0.52098937, 0.25765258, 0.        ],\n",
              "       [0.79099786, 0.33626383, 0.56068773, 0.        ],\n",
              "       [0.93533214, 0.10271162, 0.44397497, 0.        ],\n",
              "       [0.6155344 , 0.35810263, 0.66580576, 0.        ],\n",
              "       [0.85308182, 0.18853559, 0.39833717, 0.        ],\n",
              "       [0.7831255 , 0.31681056, 0.36332375, 0.        ],\n",
              "       [0.73778236, 0.25804241, 0.47644818, 0.        ],\n",
              "       [0.79031526, 0.35157211, 0.28338035, 0.        ],\n",
              "       [0.81856406, 0.36898588, 0.36260348, 0.        ],\n",
              "       [0.9030599 , 0.2995525 , 0.41914796, 0.        ],\n",
              "       [0.70232687, 0.39300963, 0.34179568, 0.        ],\n",
              "       [0.7440692 , 0.38438229, 0.37460304, 0.        ],\n",
              "       [0.9005487 , 0.32279689, 0.3404465 , 0.        ],\n",
              "       [1.        , 0.19211296, 0.33444109, 0.        ],\n",
              "       [0.76637997, 0.25078783, 0.48366041, 0.        ],\n",
              "       [0.75087591, 0.16079663, 0.54547303, 0.        ],\n",
              "       [0.71910927, 0.25500921, 0.54176564, 0.        ],\n",
              "       [0.91030363, 0.13493476, 0.4128317 , 0.        ],\n",
              "       [0.74070149, 0.33220437, 0.4451275 , 0.        ],\n",
              "       [0.86171036, 0.36932981, 0.42497329, 0.        ],\n",
              "       [0.62457173, 0.44313012, 0.55606991, 0.        ],\n",
              "       [0.7931488 , 0.48828916, 0.43030582, 0.        ],\n",
              "       [0.68955378, 0.54574762, 0.47620682, 0.        ],\n",
              "       [0.70312085, 0.51879034, 0.55136962, 0.        ],\n",
              "       [0.61334326, 0.34851312, 0.84648431, 0.        ],\n",
              "       [0.7047153 , 0.38296507, 0.45298678, 0.        ],\n",
              "       [0.64189357, 0.48801387, 0.32205658, 0.        ],\n",
              "       [0.75279029, 0.38250554, 0.60215092, 0.        ],\n",
              "       [0.76066871, 0.449937  , 0.35168658, 0.        ],\n",
              "       [0.78907544, 0.307878  , 0.60129003, 0.        ],\n",
              "       [0.80969482, 0.27660092, 0.42825867, 0.        ],\n",
              "       [0.68764427, 0.46872134, 0.44488763, 0.        ],\n",
              "       [0.71954213, 0.25478022, 0.57974662, 0.        ],\n",
              "       [0.66225386, 0.38137317, 0.51002784, 0.        ],\n",
              "       [0.71967425, 0.45193392, 0.50711679, 0.        ],\n",
              "       [0.65928341, 0.38669267, 0.50788247, 0.        ],\n",
              "       [0.62871878, 0.46040858, 0.45777943, 0.        ],\n",
              "       [0.67293714, 0.58001828, 0.31810099, 0.        ],\n",
              "       [0.79251773, 0.23177434, 0.42716198, 0.        ],\n",
              "       [0.79930133, 0.37031545, 0.44978682, 0.        ],\n",
              "       [0.57591963, 0.45284771, 0.38283266, 0.        ],\n",
              "       [0.85547355, 0.31937338, 0.4302227 , 0.        ],\n",
              "       [0.55191605, 0.43108191, 0.44142879, 0.        ],\n",
              "       [0.74265993, 0.48546907, 0.39567328, 0.        ],\n",
              "       [0.63034313, 0.23527982, 0.46460822, 0.        ],\n",
              "       [0.81541895, 0.31457896, 0.40736219, 0.        ],\n",
              "       [0.82644347, 0.38836878, 0.34535301, 0.        ],\n",
              "       [0.73201213, 0.30703927, 0.45594802, 0.        ],\n",
              "       [0.8131952 , 0.23868316, 0.39695578, 0.        ],\n",
              "       [0.8722434 , 0.45324963, 0.26297819, 0.        ],\n",
              "       [0.8308213 , 0.3749639 , 0.4621928 , 0.        ],\n",
              "       [0.90607007, 0.25753193, 0.40927537, 0.        ],\n",
              "       [0.75702434, 0.22200484, 0.49591033, 0.        ],\n",
              "       [0.74797049, 0.3382132 , 0.3652705 , 0.        ],\n",
              "       [0.78548077, 0.29594136, 0.51342088, 0.        ],\n",
              "       [0.81715481, 0.28138304, 0.40004126, 0.        ],\n",
              "       [0.7510837 , 0.31175434, 0.48807884, 0.        ],\n",
              "       [0.86345327, 0.24144323, 0.43295134, 0.        ],\n",
              "       [0.39007238, 0.89193024, 0.        , 0.5       ],\n",
              "       [0.31863423, 0.6628695 , 0.37363665, 0.5       ],\n",
              "       [0.28444883, 0.58821554, 0.30002277, 0.5       ],\n",
              "       [0.50169132, 0.64680623, 0.28202704, 0.5       ],\n",
              "       [0.73671465, 0.73645802, 0.46097551, 0.5       ],\n",
              "       [0.42718229, 0.73416019, 0.53012913, 0.5       ],\n",
              "       [0.60288744, 0.57927094, 0.51945523, 0.5       ],\n",
              "       [0.75978411, 0.73098343, 0.25711053, 0.5       ],\n",
              "       [0.51946971, 0.80443178, 0.35399379, 0.5       ],\n",
              "       [0.40354512, 0.50570836, 0.39052186, 0.5       ],\n",
              "       [0.72802881, 0.66582606, 0.3370227 , 0.5       ],\n",
              "       [0.3151739 , 0.59566105, 0.39837723, 0.5       ],\n",
              "       [0.6910309 , 0.60537139, 0.65834346, 0.5       ],\n",
              "       [0.41371948, 0.6198475 , 0.46980703, 0.5       ],\n",
              "       [0.79629109, 0.44063177, 0.80152019, 0.5       ],\n",
              "       [0.71138202, 0.65020307, 0.5078665 , 0.5       ],\n",
              "       [0.39712301, 0.80672707, 0.30428935, 0.5       ],\n",
              "       [0.54118753, 0.76744195, 0.21506349, 0.5       ],\n",
              "       [0.32853751, 0.66312784, 0.43882766, 0.5       ],\n",
              "       [0.64509449, 0.58021018, 0.34246572, 0.5       ],\n",
              "       [0.54190156, 0.61489249, 0.64242093, 0.5       ],\n",
              "       [0.58680957, 0.93275504, 0.42572019, 0.5       ],\n",
              "       [0.61852151, 0.67224644, 0.42516213, 0.5       ],\n",
              "       [0.44054181, 0.7982177 , 0.59622735, 0.5       ],\n",
              "       [0.20267381, 0.48769388, 0.50947483, 0.5       ],\n",
              "       [0.59533426, 0.67535476, 0.52315418, 0.5       ],\n",
              "       [0.58981661, 0.75021133, 0.43606681, 0.5       ],\n",
              "       [0.40424017, 0.77826161, 0.53954439, 0.5       ],\n",
              "       [0.43319132, 0.79709976, 0.69409482, 0.5       ],\n",
              "       [0.36836635, 0.71983592, 0.55831469, 0.5       ],\n",
              "       [0.43346127, 0.83562142, 0.54722492, 0.5       ],\n",
              "       [0.34111594, 0.76258124, 0.45691894, 0.5       ],\n",
              "       [0.31607385, 0.72660026, 0.54037127, 0.5       ],\n",
              "       [0.2732419 , 0.68697333, 0.45272755, 0.5       ],\n",
              "       [0.58501774, 0.78896997, 0.47326584, 0.5       ],\n",
              "       [0.6095469 , 0.77686698, 0.47606178, 0.5       ],\n",
              "       [0.79415434, 0.4529407 , 0.54113961, 0.5       ],\n",
              "       [0.43483095, 0.52579975, 0.59352382, 0.5       ],\n",
              "       [0.61811093, 0.82317086, 0.35231768, 0.5       ],\n",
              "       [0.76018002, 0.66981397, 0.43853549, 0.5       ],\n",
              "       [0.66223378, 0.76910501, 0.53713168, 0.5       ],\n",
              "       [0.59095878, 0.7976363 , 0.30380807, 0.5       ],\n",
              "       [0.43418172, 0.78628913, 0.31077424, 0.5       ],\n",
              "       [0.47937419, 0.63349846, 0.5627918 , 0.5       ],\n",
              "       [0.4213506 , 0.83865669, 0.38468975, 0.5       ],\n",
              "       [0.54378719, 0.75997259, 0.41420208, 0.5       ],\n",
              "       [0.29186737, 0.70833461, 0.55708412, 0.5       ],\n",
              "       [0.45550784, 0.769533  , 0.41324803, 0.5       ],\n",
              "       [0.30953513, 0.65936868, 0.49063456, 0.5       ],\n",
              "       [0.5077342 , 0.78806335, 0.41503538, 0.5       ],\n",
              "       [0.68179049, 0.6737795 , 0.64092851, 0.5       ],\n",
              "       [0.66343857, 0.66784632, 0.47574267, 0.5       ],\n",
              "       [0.46569757, 0.73720739, 0.4696397 , 0.5       ],\n",
              "       [0.3464852 , 0.57917087, 0.66307761, 0.5       ],\n",
              "       [0.4449411 , 0.78307897, 0.56859475, 0.5       ],\n",
              "       [0.44062221, 0.73835496, 0.59503857, 0.5       ],\n",
              "       [0.55422773, 1.        , 0.59708613, 0.5       ],\n",
              "       [0.46870148, 0.85781651, 0.43124161, 0.5       ],\n",
              "       [0.48565179, 0.73698456, 0.53121571, 0.5       ],\n",
              "       [0.21500469, 0.64604202, 0.27008202, 0.5       ],\n",
              "       [0.43400044, 0.77668194, 0.42584518, 0.5       ],\n",
              "       [0.58419804, 0.66659411, 0.57504023, 0.5       ],\n",
              "       [0.65363485, 0.44156066, 1.        , 0.5       ],\n",
              "       [0.36115433, 0.56574091, 0.76484794, 0.5       ],\n",
              "       [0.44432863, 0.55955715, 0.51040036, 0.5       ],\n",
              "       [0.61199281, 0.67155071, 0.61087863, 0.5       ],\n",
              "       [0.48686411, 0.76149776, 0.50550469, 0.5       ],\n",
              "       [0.50260834, 0.64734448, 0.53095688, 0.5       ],\n",
              "       [0.31227142, 0.63940898, 0.8001891 , 0.5       ],\n",
              "       [0.44232362, 0.73832729, 0.5922763 , 0.5       ],\n",
              "       [0.2895011 , 0.63157678, 0.5405458 , 0.5       ],\n",
              "       [0.34369741, 0.45278973, 0.34288979, 1.        ],\n",
              "       [0.22064991, 0.42514699, 0.38882836, 1.        ],\n",
              "       [0.15636362, 0.44013585, 0.44483616, 1.        ],\n",
              "       [0.2483094 , 0.4260036 , 0.41606995, 1.        ],\n",
              "       [0.22235253, 0.5380794 , 0.3508062 , 1.        ],\n",
              "       [0.14159634, 0.42801286, 0.35103536, 1.        ],\n",
              "       [0.04246096, 0.45492957, 0.48405568, 1.        ],\n",
              "       [0.04005103, 0.38655088, 0.63413824, 1.        ],\n",
              "       [0.13805473, 0.42863153, 0.35831526, 1.        ],\n",
              "       [0.22181699, 0.4363293 , 0.58677875, 1.        ],\n",
              "       [0.17476457, 0.43702993, 0.52311154, 1.        ],\n",
              "       [0.23204695, 0.42542787, 0.36387275, 1.        ],\n",
              "       [0.15069726, 0.40962821, 0.55707604, 1.        ],\n",
              "       [0.22173285, 0.41056016, 0.43625204, 1.        ],\n",
              "       [0.24097188, 0.3188138 , 0.336333  , 1.        ],\n",
              "       [0.19259122, 0.39961818, 0.37552197, 1.        ],\n",
              "       [0.        , 0.38790683, 0.3148766 , 1.        ],\n",
              "       [0.08122461, 0.30356374, 0.45056155, 1.        ],\n",
              "       [0.17147708, 0.26324478, 0.41413382, 1.        ],\n",
              "       [0.16070191, 0.19954757, 0.41177422, 1.        ],\n",
              "       [0.22806999, 0.15686252, 0.50579225, 1.        ],\n",
              "       [0.20141076, 0.19897547, 0.43027205, 1.        ],\n",
              "       [0.28720774, 0.26905073, 0.59893081, 1.        ],\n",
              "       [0.17693697, 0.18629767, 0.3645791 , 1.        ],\n",
              "       [0.17961275, 0.42036775, 0.34184338, 1.        ],\n",
              "       [0.07863804, 0.23185797, 0.452248  , 1.        ],\n",
              "       [0.1618462 , 0.21522923, 0.38293739, 1.        ],\n",
              "       [0.10339102, 0.2982606 , 0.62304212, 1.        ],\n",
              "       [0.37615476, 0.        , 0.57853383, 1.        ],\n",
              "       [0.31078728, 0.15005693, 0.5169577 , 1.        ],\n",
              "       [0.13236959, 0.37592747, 0.45255394, 1.        ],\n",
              "       [0.23744694, 0.31672729, 0.45150885, 1.        ],\n",
              "       [0.16675137, 0.40058161, 0.5427023 , 1.        ],\n",
              "       [0.19586395, 0.38136894, 0.37260383, 1.        ],\n",
              "       [0.1549254 , 0.26530585, 0.36268875, 1.        ],\n",
              "       [0.08734663, 0.35638391, 0.41478825, 1.        ],\n",
              "       [0.21813523, 0.1249153 , 0.50484007, 1.        ],\n",
              "       [0.15727773, 0.30332762, 0.33953194, 1.        ],\n",
              "       [0.24428288, 0.19460904, 0.53863071, 1.        ],\n",
              "       [0.2210657 , 0.12541466, 0.60451507, 1.        ],\n",
              "       [0.12439997, 0.50986913, 0.37641134, 1.        ],\n",
              "       [0.07013737, 0.36109212, 0.32683746, 1.        ],\n",
              "       [0.2112177 , 0.17887018, 0.36919598, 1.        ],\n",
              "       [0.10590828, 0.17582548, 0.42722068, 1.        ],\n",
              "       [0.19534509, 0.23797082, 0.48262106, 1.        ],\n",
              "       [0.18651466, 0.10209875, 0.36696437, 1.        ],\n",
              "       [0.2203571 , 0.16485229, 0.40626225, 1.        ],\n",
              "       [0.12473268, 0.10101298, 0.56381901, 1.        ]])"
            ]
          },
          "metadata": {},
          "execution_count": 110
        }
      ]
    },
    {
      "cell_type": "code",
      "source": [
        "dendrogram=sch.dendrogram(sch.linkage(X, method='complete'))"
      ],
      "metadata": {
        "colab": {
          "base_uri": "https://localhost:8080/",
          "height": 265
        },
        "id": "gd1LeN-4cm5q",
        "outputId": "ac2a3984-63f8-40a3-e819-f3a2e2d86a96"
      },
      "execution_count": 111,
      "outputs": [
        {
          "output_type": "display_data",
          "data": {
            "text/plain": [
              "<Figure size 432x288 with 1 Axes>"
            ],
            "image/png": "[encoded data removed]"
          },
          "metadata": {
            "needs_background": "light"
          }
        }
      ]
    },
    {
      "cell_type": "code",
      "source": [
        "hc=AgglomerativeClustering(n_clusters=3, affinity='euclidean', linkage='single')\n",
        "y=hc.fit_predict(X)\n",
        "y"
      ],
      "metadata": {
        "colab": {
          "base_uri": "https://localhost:8080/"
        },
        "id": "WZOuOaL5cz1b",
        "outputId": "418efd79-8475-46fe-9f72-6b7ea227fddd"
      },
      "execution_count": 112,
      "outputs": [
        {
          "output_type": "execute_result",
          "data": {
            "text/plain": [
              "array([2, 2, 2, 2, 2, 2, 2, 2, 2, 2, 2, 2, 2, 2, 2, 2, 2, 2, 2, 2, 2, 2,\n",
              "       2, 2, 2, 2, 2, 2, 2, 2, 2, 2, 2, 2, 2, 2, 2, 2, 2, 2, 2, 2, 2, 2,\n",
              "       2, 2, 2, 2, 2, 2, 2, 2, 2, 2, 2, 2, 2, 2, 2, 0, 0, 0, 0, 0, 0, 0,\n",
              "       0, 0, 0, 0, 0, 0, 0, 0, 0, 0, 0, 0, 0, 0, 0, 0, 0, 0, 0, 0, 0, 0,\n",
              "       0, 0, 0, 0, 0, 0, 0, 0, 0, 0, 0, 0, 0, 0, 0, 0, 0, 0, 0, 0, 0, 0,\n",
              "       0, 0, 0, 0, 0, 0, 0, 0, 0, 0, 0, 0, 0, 0, 0, 0, 0, 0, 0, 0, 1, 1,\n",
              "       1, 1, 1, 1, 1, 1, 1, 1, 1, 1, 1, 1, 1, 1, 1, 1, 1, 1, 1, 1, 1, 1,\n",
              "       1, 1, 1, 1, 1, 1, 1, 1, 1, 1, 1, 1, 1, 1, 1, 1, 1, 1, 1, 1, 1, 1,\n",
              "       1, 1])"
            ]
          },
          "metadata": {},
          "execution_count": 112
        }
      ]
    },
    {
      "cell_type": "code",
      "source": [
        "wine_data3['hc_cluster']=hc.labels_\n",
        "wine_data3"
      ],
      "metadata": {
        "colab": {
          "base_uri": "https://localhost:8080/",
          "height": 424
        },
        "id": "nYd-y8obc3k2",
        "outputId": "8d0ac518-f58f-404f-e49e-9cde33adbdc1"
      },
      "execution_count": 113,
      "outputs": [
        {
          "output_type": "execute_result",
          "data": {
            "text/plain": [
              "          pc1       pc2       pc3  Type  hc_cluster\n",
              "0    3.316751 -1.443463 -0.165739     1           2\n",
              "1    2.209465  0.333393 -2.026457     1           2\n",
              "2    2.516740 -1.031151  0.982819     1           2\n",
              "3    3.757066 -2.756372 -0.176192     1           2\n",
              "4    1.008908 -0.869831  2.026688     1           2\n",
              "..        ...       ...       ...   ...         ...\n",
              "173 -3.370524 -2.216289 -0.342570     3           1\n",
              "174 -2.601956 -1.757229  0.207581     3           1\n",
              "175 -2.677839 -2.760899 -0.940942     3           1\n",
              "176 -2.387017 -2.297347 -0.550696     3           1\n",
              "177 -3.208758 -2.768920  1.013914     3           1\n",
              "\n",
              "[178 rows x 5 columns]"
            ],
            "text/html": [
              "\n",
              "  <div id=\"df-81997bda-d10f-4187-85dd-634a0e6b76db\">\n",
              "    <div class=\"colab-df-container\">\n",
              "      <div>\n",
              "<style scoped>\n",
              "    .dataframe tbody tr th:only-of-type {\n",
              "        vertical-align: middle;\n",
              "    }\n",
              "\n",
              "    .dataframe tbody tr th {\n",
              "        vertical-align: top;\n",
              "    }\n",
              "\n",
              "    .dataframe thead th {\n",
              "        text-align: right;\n",
              "    }\n",
              "</style>\n",
              "<table border=\"1\" class=\"dataframe\">\n",
              "  <thead>\n",
              "    <tr style=\"text-align: right;\">\n",
              "      <th></th>\n",
              "      <th>pc1</th>\n",
              "      <th>pc2</th>\n",
              "      <th>pc3</th>\n",
              "      <th>Type</th>\n",
              "      <th>hc_cluster</th>\n",
              "    </tr>\n",
              "  </thead>\n",
              "  <tbody>\n",
              "    <tr>\n",
              "      <th>0</th>\n",
              "      <td>3.316751</td>\n",
              "      <td>-1.443463</td>\n",
              "      <td>-0.165739</td>\n",
              "      <td>1</td>\n",
              "      <td>2</td>\n",
              "    </tr>\n",
              "    <tr>\n",
              "      <th>1</th>\n",
              "      <td>2.209465</td>\n",
              "      <td>0.333393</td>\n",
              "      <td>-2.026457</td>\n",
              "      <td>1</td>\n",
              "      <td>2</td>\n",
              "    </tr>\n",
              "    <tr>\n",
              "      <th>2</th>\n",
              "      <td>2.516740</td>\n",
              "      <td>-1.031151</td>\n",
              "      <td>0.982819</td>\n",
              "      <td>1</td>\n",
              "      <td>2</td>\n",
              "    </tr>\n",
              "    <tr>\n",
              "      <th>3</th>\n",
              "      <td>3.757066</td>\n",
              "      <td>-2.756372</td>\n",
              "      <td>-0.176192</td>\n",
              "      <td>1</td>\n",
              "      <td>2</td>\n",
              "    </tr>\n",
              "    <tr>\n",
              "      <th>4</th>\n",
              "      <td>1.008908</td>\n",
              "      <td>-0.869831</td>\n",
              "      <td>2.026688</td>\n",
              "      <td>1</td>\n",
              "      <td>2</td>\n",
              "    </tr>\n",
              "    <tr>\n",
              "      <th>...</th>\n",
              "      <td>...</td>\n",
              "      <td>...</td>\n",
              "      <td>...</td>\n",
              "      <td>...</td>\n",
              "      <td>...</td>\n",
              "    </tr>\n",
              "    <tr>\n",
              "      <th>173</th>\n",
              "      <td>-3.370524</td>\n",
              "      <td>-2.216289</td>\n",
              "      <td>-0.342570</td>\n",
              "      <td>3</td>\n",
              "      <td>1</td>\n",
              "    </tr>\n",
              "    <tr>\n",
              "      <th>174</th>\n",
              "      <td>-2.601956</td>\n",
              "      <td>-1.757229</td>\n",
              "      <td>0.207581</td>\n",
              "      <td>3</td>\n",
              "      <td>1</td>\n",
              "    </tr>\n",
              "    <tr>\n",
              "      <th>175</th>\n",
              "      <td>-2.677839</td>\n",
              "      <td>-2.760899</td>\n",
              "      <td>-0.940942</td>\n",
              "      <td>3</td>\n",
              "      <td>1</td>\n",
              "    </tr>\n",
              "    <tr>\n",
              "      <th>176</th>\n",
              "      <td>-2.387017</td>\n",
              "      <td>-2.297347</td>\n",
              "      <td>-0.550696</td>\n",
              "      <td>3</td>\n",
              "      <td>1</td>\n",
              "    </tr>\n",
              "    <tr>\n",
              "      <th>177</th>\n",
              "      <td>-3.208758</td>\n",
              "      <td>-2.768920</td>\n",
              "      <td>1.013914</td>\n",
              "      <td>3</td>\n",
              "      <td>1</td>\n",
              "    </tr>\n",
              "  </tbody>\n",
              "</table>\n",
              "<p>178 rows × 5 columns</p>\n",
              "</div>\n",
              "      <button class=\"colab-df-convert\" onclick=\"convertToInteractive('df-81997bda-d10f-4187-85dd-634a0e6b76db')\"\n",
              "              title=\"Convert this dataframe to an interactive table.\"\n",
              "              style=\"display:none;\">\n",
              "        \n",
              "  <svg xmlns=\"http://www.w3.org/2000/svg\" height=\"24px\"viewBox=\"0 0 24 24\"\n",
              "       width=\"24px\">\n",
              "    <path d=\"M0 0h24v24H0V0z\" fill=\"none\"/>\n",
              "    <path d=\"M18.56 5.44l.94 2.06.94-2.06 2.06-.94-2.06-.94-.94-2.06-.94 2.06-2.06.94zm-11 1L8.5 8.5l.94-2.06 2.06-.94-2.06-.94L8.5 2.5l-.94 2.06-2.06.94zm10 10l.94 2.06.94-2.06 2.06-.94-2.06-.94-.94-2.06-.94 2.06-2.06.94z\"/><path d=\"M17.41 7.96l-1.37-1.37c-.4-.4-.92-.59-1.43-.59-.52 0-1.04.2-1.43.59L10.3 9.45l-7.72 7.72c-.78.78-.78 2.05 0 2.83L4 21.41c.39.39.9.59 1.41.59.51 0 1.02-.2 1.41-.59l7.78-7.78 2.81-2.81c.8-.78.8-2.07 0-2.86zM5.41 20L4 18.59l7.72-7.72 1.47 1.35L5.41 20z\"/>\n",
              "  </svg>\n",
              "      </button>\n",
              "      \n",
              "  <style>\n",
              "    .colab-df-container {\n",
              "      display:flex;\n",
              "      flex-wrap:wrap;\n",
              "      gap: 12px;\n",
              "    }\n",
              "\n",
              "    .colab-df-convert {\n",
              "      background-color: #E8F0FE;\n",
              "      border: none;\n",
              "      border-radius: 50%;\n",
              "      cursor: pointer;\n",
              "      display: none;\n",
              "      fill: #1967D2;\n",
              "      height: 32px;\n",
              "      padding: 0 0 0 0;\n",
              "      width: 32px;\n",
              "    }\n",
              "\n",
              "    .colab-df-convert:hover {\n",
              "      background-color: #E2EBFA;\n",
              "      box-shadow: 0px 1px 2px rgba(60, 64, 67, 0.3), 0px 1px 3px 1px rgba(60, 64, 67, 0.15);\n",
              "      fill: #174EA6;\n",
              "    }\n",
              "\n",
              "    [theme=dark] .colab-df-convert {\n",
              "      background-color: #3B4455;\n",
              "      fill: #D2E3FC;\n",
              "    }\n",
              "\n",
              "    [theme=dark] .colab-df-convert:hover {\n",
              "      background-color: #434B5C;\n",
              "      box-shadow: 0px 1px 3px 1px rgba(0, 0, 0, 0.15);\n",
              "      filter: drop-shadow(0px 1px 2px rgba(0, 0, 0, 0.3));\n",
              "      fill: #FFFFFF;\n",
              "    }\n",
              "  </style>\n",
              "\n",
              "      <script>\n",
              "        const buttonEl =\n",
              "          document.querySelector('#df-81997bda-d10f-4187-85dd-634a0e6b76db button.colab-df-convert');\n",
              "        buttonEl.style.display =\n",
              "          google.colab.kernel.accessAllowed ? 'block' : 'none';\n",
              "\n",
              "        async function convertToInteractive(key) {\n",
              "          const element = document.querySelector('#df-81997bda-d10f-4187-85dd-634a0e6b76db');\n",
              "          const dataTable =\n",
              "            await google.colab.kernel.invokeFunction('convertToInteractive',\n",
              "                                                     [key], {});\n",
              "          if (!dataTable) return;\n",
              "\n",
              "          const docLinkHtml = 'Like what you see? Visit the ' +\n",
              "            '<a target=\"_blank\" href=https://colab.research.google.com/notebooks/data_table.ipynb>data table notebook</a>'\n",
              "            + ' to learn more about interactive tables.';\n",
              "          element.innerHTML = '';\n",
              "          dataTable['output_type'] = 'display_data';\n",
              "          await google.colab.output.renderOutput(dataTable, element);\n",
              "          const docLink = document.createElement('div');\n",
              "          docLink.innerHTML = docLinkHtml;\n",
              "          element.appendChild(docLink);\n",
              "        }\n",
              "      </script>\n",
              "    </div>\n",
              "  </div>\n",
              "  "
            ]
          },
          "metadata": {},
          "execution_count": 113
        }
      ]
    },
    {
      "cell_type": "code",
      "source": [
        "sns.countplot(wine_data3['hc_cluster'])"
      ],
      "metadata": {
        "colab": {
          "base_uri": "https://localhost:8080/",
          "height": 352
        },
        "id": "XFlRfKulc59A",
        "outputId": "9ad03aae-f3e2-4b44-c01d-d3dc5b7ee7e5"
      },
      "execution_count": 114,
      "outputs": [
        {
          "output_type": "stream",
          "name": "stderr",
          "text": [
            "/usr/local/lib/python3.7/dist-packages/seaborn/_decorators.py:43: FutureWarning: Pass the following variable as a keyword arg: x. From version 0.12, the only valid positional argument will be `data`, and passing other arguments without an explicit keyword will result in an error or misinterpretation.\n",
            "  FutureWarning\n"
          ]
        },
        {
          "output_type": "execute_result",
          "data": {
            "text/plain": [
              "<matplotlib.axes._subplots.AxesSubplot at 0x7f3a77bb0b10>"
            ]
          },
          "metadata": {},
          "execution_count": 114
        },
        {
          "output_type": "display_data",
          "data": {
            "text/plain": [
              "<Figure size 432x288 with 1 Axes>"
            ],
            "image/png": "[encoded data removed]"
          },
          "metadata": {
            "needs_background": "light"
          }
        }
      ]
    },
    {
      "cell_type": "markdown",
      "source": [
        "#K-Means"
      ],
      "metadata": {
        "id": "juPUoeH4c_-U"
      }
    },
    {
      "cell_type": "code",
      "source": [
        "#K-Means Clustering\n",
        "\n",
        "from sklearn.cluster import KMeans"
      ],
      "metadata": {
        "id": "Y3w0pJNBc9OK"
      },
      "execution_count": 115,
      "outputs": []
    },
    {
      "cell_type": "code",
      "source": [
        "wcss = []\n",
        "for i in range(1,15):\n",
        "    kmeans=KMeans(n_clusters=i, random_state=0)\n",
        "    kmeans.fit(X)\n",
        "    wcss.append(kmeans.inertia_)\n",
        "plt.plot(range(1,15),wcss)\n",
        "plt.title('Elbow Curve')\n",
        "plt.xlabel('no of clusters')\n",
        "plt.ylabel('wcss')\n",
        "plt.show()"
      ],
      "metadata": {
        "colab": {
          "base_uri": "https://localhost:8080/",
          "height": 295
        },
        "id": "VMdrwwymdClV",
        "outputId": "169d9caa-d70e-4702-adb9-7f4b99856176"
      },
      "execution_count": 116,
      "outputs": [
        {
          "output_type": "display_data",
          "data": {
            "text/plain": [
              "<Figure size 432x288 with 1 Axes>"
            ],
            "image/png": "[encoded data removed]"
          },
          "metadata": {
            "needs_background": "light"
          }
        }
      ]
    },
    {
      "cell_type": "code",
      "source": [
        "model=KMeans(n_clusters=3)\n",
        "model.fit(X)"
      ],
      "metadata": {
        "colab": {
          "base_uri": "https://localhost:8080/"
        },
        "id": "ldYBvzaidFrh",
        "outputId": "4522dac9-e785-4e09-e5e4-9aee8d9d4561"
      },
      "execution_count": 117,
      "outputs": [
        {
          "output_type": "execute_result",
          "data": {
            "text/plain": [
              "KMeans(n_clusters=3)"
            ]
          },
          "metadata": {},
          "execution_count": 117
        }
      ]
    },
    {
      "cell_type": "code",
      "source": [
        "model.labels_"
      ],
      "metadata": {
        "colab": {
          "base_uri": "https://localhost:8080/"
        },
        "id": "YSLv7WBBdJMF",
        "outputId": "1b00e829-8f27-4217-9d54-67626e21a6cc"
      },
      "execution_count": 118,
      "outputs": [
        {
          "output_type": "execute_result",
          "data": {
            "text/plain": [
              "array([0, 0, 0, 0, 0, 0, 0, 0, 0, 0, 0, 0, 0, 0, 0, 0, 0, 0, 0, 0, 0, 0,\n",
              "       0, 0, 0, 0, 0, 0, 0, 0, 0, 0, 0, 0, 0, 0, 0, 0, 0, 0, 0, 0, 0, 0,\n",
              "       0, 0, 0, 0, 0, 0, 0, 0, 0, 0, 0, 0, 0, 0, 0, 2, 2, 2, 2, 2, 2, 2,\n",
              "       2, 2, 2, 2, 2, 2, 2, 2, 2, 2, 2, 2, 2, 2, 2, 2, 2, 2, 2, 2, 2, 2,\n",
              "       2, 2, 2, 2, 2, 2, 2, 2, 2, 2, 2, 2, 2, 2, 2, 2, 2, 2, 2, 2, 2, 2,\n",
              "       2, 2, 2, 2, 2, 2, 2, 2, 2, 2, 2, 2, 2, 2, 2, 2, 2, 2, 2, 2, 1, 1,\n",
              "       1, 1, 1, 1, 1, 1, 1, 1, 1, 1, 1, 1, 1, 1, 1, 1, 1, 1, 1, 1, 1, 1,\n",
              "       1, 1, 1, 1, 1, 1, 1, 1, 1, 1, 1, 1, 1, 1, 1, 1, 1, 1, 1, 1, 1, 1,\n",
              "       1, 1], dtype=int32)"
            ]
          },
          "metadata": {},
          "execution_count": 118
        }
      ]
    },
    {
      "cell_type": "code",
      "source": [
        "wine_data4=pd.concat([wine_data3,pd.DataFrame(model.labels_,columns=['KClusters'])],axis=1)\n",
        "wine_data4"
      ],
      "metadata": {
        "colab": {
          "base_uri": "https://localhost:8080/",
          "height": 424
        },
        "id": "dPx2Kx7LdL0d",
        "outputId": "107b2840-639c-497f-e43b-e18c6fb8f3c9"
      },
      "execution_count": 119,
      "outputs": [
        {
          "output_type": "execute_result",
          "data": {
            "text/plain": [
              "          pc1       pc2       pc3  Type  hc_cluster  KClusters\n",
              "0    3.316751 -1.443463 -0.165739     1           2          0\n",
              "1    2.209465  0.333393 -2.026457     1           2          0\n",
              "2    2.516740 -1.031151  0.982819     1           2          0\n",
              "3    3.757066 -2.756372 -0.176192     1           2          0\n",
              "4    1.008908 -0.869831  2.026688     1           2          0\n",
              "..        ...       ...       ...   ...         ...        ...\n",
              "173 -3.370524 -2.216289 -0.342570     3           1          1\n",
              "174 -2.601956 -1.757229  0.207581     3           1          1\n",
              "175 -2.677839 -2.760899 -0.940942     3           1          1\n",
              "176 -2.387017 -2.297347 -0.550696     3           1          1\n",
              "177 -3.208758 -2.768920  1.013914     3           1          1\n",
              "\n",
              "[178 rows x 6 columns]"
            ],
            "text/html": [
              "\n",
              "  <div id=\"df-f7f3ef79-eca0-4f5f-8922-a13bc51fcffd\">\n",
              "    <div class=\"colab-df-container\">\n",
              "      <div>\n",
              "<style scoped>\n",
              "    .dataframe tbody tr th:only-of-type {\n",
              "        vertical-align: middle;\n",
              "    }\n",
              "\n",
              "    .dataframe tbody tr th {\n",
              "        vertical-align: top;\n",
              "    }\n",
              "\n",
              "    .dataframe thead th {\n",
              "        text-align: right;\n",
              "    }\n",
              "</style>\n",
              "<table border=\"1\" class=\"dataframe\">\n",
              "  <thead>\n",
              "    <tr style=\"text-align: right;\">\n",
              "      <th></th>\n",
              "      <th>pc1</th>\n",
              "      <th>pc2</th>\n",
              "      <th>pc3</th>\n",
              "      <th>Type</th>\n",
              "      <th>hc_cluster</th>\n",
              "      <th>KClusters</th>\n",
              "    </tr>\n",
              "  </thead>\n",
              "  <tbody>\n",
              "    <tr>\n",
              "      <th>0</th>\n",
              "      <td>3.316751</td>\n",
              "      <td>-1.443463</td>\n",
              "      <td>-0.165739</td>\n",
              "      <td>1</td>\n",
              "      <td>2</td>\n",
              "      <td>0</td>\n",
              "    </tr>\n",
              "    <tr>\n",
              "      <th>1</th>\n",
              "      <td>2.209465</td>\n",
              "      <td>0.333393</td>\n",
              "      <td>-2.026457</td>\n",
              "      <td>1</td>\n",
              "      <td>2</td>\n",
              "      <td>0</td>\n",
              "    </tr>\n",
              "    <tr>\n",
              "      <th>2</th>\n",
              "      <td>2.516740</td>\n",
              "      <td>-1.031151</td>\n",
              "      <td>0.982819</td>\n",
              "      <td>1</td>\n",
              "      <td>2</td>\n",
              "      <td>0</td>\n",
              "    </tr>\n",
              "    <tr>\n",
              "      <th>3</th>\n",
              "      <td>3.757066</td>\n",
              "      <td>-2.756372</td>\n",
              "      <td>-0.176192</td>\n",
              "      <td>1</td>\n",
              "      <td>2</td>\n",
              "      <td>0</td>\n",
              "    </tr>\n",
              "    <tr>\n",
              "      <th>4</th>\n",
              "      <td>1.008908</td>\n",
              "      <td>-0.869831</td>\n",
              "      <td>2.026688</td>\n",
              "      <td>1</td>\n",
              "      <td>2</td>\n",
              "      <td>0</td>\n",
              "    </tr>\n",
              "    <tr>\n",
              "      <th>...</th>\n",
              "      <td>...</td>\n",
              "      <td>...</td>\n",
              "      <td>...</td>\n",
              "      <td>...</td>\n",
              "      <td>...</td>\n",
              "      <td>...</td>\n",
              "    </tr>\n",
              "    <tr>\n",
              "      <th>173</th>\n",
              "      <td>-3.370524</td>\n",
              "      <td>-2.216289</td>\n",
              "      <td>-0.342570</td>\n",
              "      <td>3</td>\n",
              "      <td>1</td>\n",
              "      <td>1</td>\n",
              "    </tr>\n",
              "    <tr>\n",
              "      <th>174</th>\n",
              "      <td>-2.601956</td>\n",
              "      <td>-1.757229</td>\n",
              "      <td>0.207581</td>\n",
              "      <td>3</td>\n",
              "      <td>1</td>\n",
              "      <td>1</td>\n",
              "    </tr>\n",
              "    <tr>\n",
              "      <th>175</th>\n",
              "      <td>-2.677839</td>\n",
              "      <td>-2.760899</td>\n",
              "      <td>-0.940942</td>\n",
              "      <td>3</td>\n",
              "      <td>1</td>\n",
              "      <td>1</td>\n",
              "    </tr>\n",
              "    <tr>\n",
              "      <th>176</th>\n",
              "      <td>-2.387017</td>\n",
              "      <td>-2.297347</td>\n",
              "      <td>-0.550696</td>\n",
              "      <td>3</td>\n",
              "      <td>1</td>\n",
              "      <td>1</td>\n",
              "    </tr>\n",
              "    <tr>\n",
              "      <th>177</th>\n",
              "      <td>-3.208758</td>\n",
              "      <td>-2.768920</td>\n",
              "      <td>1.013914</td>\n",
              "      <td>3</td>\n",
              "      <td>1</td>\n",
              "      <td>1</td>\n",
              "    </tr>\n",
              "  </tbody>\n",
              "</table>\n",
              "<p>178 rows × 6 columns</p>\n",
              "</div>\n",
              "      <button class=\"colab-df-convert\" onclick=\"convertToInteractive('df-f7f3ef79-eca0-4f5f-8922-a13bc51fcffd')\"\n",
              "              title=\"Convert this dataframe to an interactive table.\"\n",
              "              style=\"display:none;\">\n",
              "        \n",
              "  <svg xmlns=\"http://www.w3.org/2000/svg\" height=\"24px\"viewBox=\"0 0 24 24\"\n",
              "       width=\"24px\">\n",
              "    <path d=\"M0 0h24v24H0V0z\" fill=\"none\"/>\n",
              "    <path d=\"M18.56 5.44l.94 2.06.94-2.06 2.06-.94-2.06-.94-.94-2.06-.94 2.06-2.06.94zm-11 1L8.5 8.5l.94-2.06 2.06-.94-2.06-.94L8.5 2.5l-.94 2.06-2.06.94zm10 10l.94 2.06.94-2.06 2.06-.94-2.06-.94-.94-2.06-.94 2.06-2.06.94z\"/><path d=\"M17.41 7.96l-1.37-1.37c-.4-.4-.92-.59-1.43-.59-.52 0-1.04.2-1.43.59L10.3 9.45l-7.72 7.72c-.78.78-.78 2.05 0 2.83L4 21.41c.39.39.9.59 1.41.59.51 0 1.02-.2 1.41-.59l7.78-7.78 2.81-2.81c.8-.78.8-2.07 0-2.86zM5.41 20L4 18.59l7.72-7.72 1.47 1.35L5.41 20z\"/>\n",
              "  </svg>\n",
              "      </button>\n",
              "      \n",
              "  <style>\n",
              "    .colab-df-container {\n",
              "      display:flex;\n",
              "      flex-wrap:wrap;\n",
              "      gap: 12px;\n",
              "    }\n",
              "\n",
              "    .colab-df-convert {\n",
              "      background-color: #E8F0FE;\n",
              "      border: none;\n",
              "      border-radius: 50%;\n",
              "      cursor: pointer;\n",
              "      display: none;\n",
              "      fill: #1967D2;\n",
              "      height: 32px;\n",
              "      padding: 0 0 0 0;\n",
              "      width: 32px;\n",
              "    }\n",
              "\n",
              "    .colab-df-convert:hover {\n",
              "      background-color: #E2EBFA;\n",
              "      box-shadow: 0px 1px 2px rgba(60, 64, 67, 0.3), 0px 1px 3px 1px rgba(60, 64, 67, 0.15);\n",
              "      fill: #174EA6;\n",
              "    }\n",
              "\n",
              "    [theme=dark] .colab-df-convert {\n",
              "      background-color: #3B4455;\n",
              "      fill: #D2E3FC;\n",
              "    }\n",
              "\n",
              "    [theme=dark] .colab-df-convert:hover {\n",
              "      background-color: #434B5C;\n",
              "      box-shadow: 0px 1px 3px 1px rgba(0, 0, 0, 0.15);\n",
              "      filter: drop-shadow(0px 1px 2px rgba(0, 0, 0, 0.3));\n",
              "      fill: #FFFFFF;\n",
              "    }\n",
              "  </style>\n",
              "\n",
              "      <script>\n",
              "        const buttonEl =\n",
              "          document.querySelector('#df-f7f3ef79-eca0-4f5f-8922-a13bc51fcffd button.colab-df-convert');\n",
              "        buttonEl.style.display =\n",
              "          google.colab.kernel.accessAllowed ? 'block' : 'none';\n",
              "\n",
              "        async function convertToInteractive(key) {\n",
              "          const element = document.querySelector('#df-f7f3ef79-eca0-4f5f-8922-a13bc51fcffd');\n",
              "          const dataTable =\n",
              "            await google.colab.kernel.invokeFunction('convertToInteractive',\n",
              "                                                     [key], {});\n",
              "          if (!dataTable) return;\n",
              "\n",
              "          const docLinkHtml = 'Like what you see? Visit the ' +\n",
              "            '<a target=\"_blank\" href=https://colab.research.google.com/notebooks/data_table.ipynb>data table notebook</a>'\n",
              "            + ' to learn more about interactive tables.';\n",
              "          element.innerHTML = '';\n",
              "          dataTable['output_type'] = 'display_data';\n",
              "          await google.colab.output.renderOutput(dataTable, element);\n",
              "          const docLink = document.createElement('div');\n",
              "          docLink.innerHTML = docLinkHtml;\n",
              "          element.appendChild(docLink);\n",
              "        }\n",
              "      </script>\n",
              "    </div>\n",
              "  </div>\n",
              "  "
            ]
          },
          "metadata": {},
          "execution_count": 119
        }
      ]
    },
    {
      "cell_type": "code",
      "source": [
        "sns.countplot(wine_data4['KClusters'])"
      ],
      "metadata": {
        "colab": {
          "base_uri": "https://localhost:8080/",
          "height": 351
        },
        "id": "e9f3Otf_dOhS",
        "outputId": "43d5522b-e946-42f4-e1ce-7239c2401df9"
      },
      "execution_count": 120,
      "outputs": [
        {
          "output_type": "stream",
          "name": "stderr",
          "text": [
            "/usr/local/lib/python3.7/dist-packages/seaborn/_decorators.py:43: FutureWarning: Pass the following variable as a keyword arg: x. From version 0.12, the only valid positional argument will be `data`, and passing other arguments without an explicit keyword will result in an error or misinterpretation.\n",
            "  FutureWarning\n"
          ]
        },
        {
          "output_type": "execute_result",
          "data": {
            "text/plain": [
              "<matplotlib.axes._subplots.AxesSubplot at 0x7f3a784e92d0>"
            ]
          },
          "metadata": {},
          "execution_count": 120
        },
        {
          "output_type": "display_data",
          "data": {
            "text/plain": [
              "<Figure size 432x288 with 1 Axes>"
            ],
            "image/png": "[encoded data removed]"
          },
          "metadata": {
            "needs_background": "light"
          }
        }
      ]
    },
    {
      "cell_type": "code",
      "source": [
        "wine_data4.iloc[:,0:5].groupby(wine_data4.KClusters).mean()"
      ],
      "metadata": {
        "colab": {
          "base_uri": "https://localhost:8080/",
          "height": 175
        },
        "id": "tDLBHXt_dTgP",
        "outputId": "d3f87c3a-1200-476d-e13f-a89020b57d03"
      },
      "execution_count": 121,
      "outputs": [
        {
          "output_type": "execute_result",
          "data": {
            "text/plain": [
              "                pc1       pc2       pc3  Type  hc_cluster\n",
              "KClusters                                                \n",
              "0          2.282739 -0.967874 -0.159555   1.0         2.0\n",
              "1         -2.748200 -1.241308 -0.190818   3.0         1.0\n",
              "2         -0.038986  1.643483  0.261592   2.0         0.0"
            ],
            "text/html": [
              "\n",
              "  <div id=\"df-aa82d987-6f55-4abc-bd4e-bf6ba5a4f3e9\">\n",
              "    <div class=\"colab-df-container\">\n",
              "      <div>\n",
              "<style scoped>\n",
              "    .dataframe tbody tr th:only-of-type {\n",
              "        vertical-align: middle;\n",
              "    }\n",
              "\n",
              "    .dataframe tbody tr th {\n",
              "        vertical-align: top;\n",
              "    }\n",
              "\n",
              "    .dataframe thead th {\n",
              "        text-align: right;\n",
              "    }\n",
              "</style>\n",
              "<table border=\"1\" class=\"dataframe\">\n",
              "  <thead>\n",
              "    <tr style=\"text-align: right;\">\n",
              "      <th></th>\n",
              "      <th>pc1</th>\n",
              "      <th>pc2</th>\n",
              "      <th>pc3</th>\n",
              "      <th>Type</th>\n",
              "      <th>hc_cluster</th>\n",
              "    </tr>\n",
              "    <tr>\n",
              "      <th>KClusters</th>\n",
              "      <th></th>\n",
              "      <th></th>\n",
              "      <th></th>\n",
              "      <th></th>\n",
              "      <th></th>\n",
              "    </tr>\n",
              "  </thead>\n",
              "  <tbody>\n",
              "    <tr>\n",
              "      <th>0</th>\n",
              "      <td>2.282739</td>\n",
              "      <td>-0.967874</td>\n",
              "      <td>-0.159555</td>\n",
              "      <td>1.0</td>\n",
              "      <td>2.0</td>\n",
              "    </tr>\n",
              "    <tr>\n",
              "      <th>1</th>\n",
              "      <td>-2.748200</td>\n",
              "      <td>-1.241308</td>\n",
              "      <td>-0.190818</td>\n",
              "      <td>3.0</td>\n",
              "      <td>1.0</td>\n",
              "    </tr>\n",
              "    <tr>\n",
              "      <th>2</th>\n",
              "      <td>-0.038986</td>\n",
              "      <td>1.643483</td>\n",
              "      <td>0.261592</td>\n",
              "      <td>2.0</td>\n",
              "      <td>0.0</td>\n",
              "    </tr>\n",
              "  </tbody>\n",
              "</table>\n",
              "</div>\n",
              "      <button class=\"colab-df-convert\" onclick=\"convertToInteractive('df-aa82d987-6f55-4abc-bd4e-bf6ba5a4f3e9')\"\n",
              "              title=\"Convert this dataframe to an interactive table.\"\n",
              "              style=\"display:none;\">\n",
              "        \n",
              "  <svg xmlns=\"http://www.w3.org/2000/svg\" height=\"24px\"viewBox=\"0 0 24 24\"\n",
              "       width=\"24px\">\n",
              "    <path d=\"M0 0h24v24H0V0z\" fill=\"none\"/>\n",
              "    <path d=\"M18.56 5.44l.94 2.06.94-2.06 2.06-.94-2.06-.94-.94-2.06-.94 2.06-2.06.94zm-11 1L8.5 8.5l.94-2.06 2.06-.94-2.06-.94L8.5 2.5l-.94 2.06-2.06.94zm10 10l.94 2.06.94-2.06 2.06-.94-2.06-.94-.94-2.06-.94 2.06-2.06.94z\"/><path d=\"M17.41 7.96l-1.37-1.37c-.4-.4-.92-.59-1.43-.59-.52 0-1.04.2-1.43.59L10.3 9.45l-7.72 7.72c-.78.78-.78 2.05 0 2.83L4 21.41c.39.39.9.59 1.41.59.51 0 1.02-.2 1.41-.59l7.78-7.78 2.81-2.81c.8-.78.8-2.07 0-2.86zM5.41 20L4 18.59l7.72-7.72 1.47 1.35L5.41 20z\"/>\n",
              "  </svg>\n",
              "      </button>\n",
              "      \n",
              "  <style>\n",
              "    .colab-df-container {\n",
              "      display:flex;\n",
              "      flex-wrap:wrap;\n",
              "      gap: 12px;\n",
              "    }\n",
              "\n",
              "    .colab-df-convert {\n",
              "      background-color: #E8F0FE;\n",
              "      border: none;\n",
              "      border-radius: 50%;\n",
              "      cursor: pointer;\n",
              "      display: none;\n",
              "      fill: #1967D2;\n",
              "      height: 32px;\n",
              "      padding: 0 0 0 0;\n",
              "      width: 32px;\n",
              "    }\n",
              "\n",
              "    .colab-df-convert:hover {\n",
              "      background-color: #E2EBFA;\n",
              "      box-shadow: 0px 1px 2px rgba(60, 64, 67, 0.3), 0px 1px 3px 1px rgba(60, 64, 67, 0.15);\n",
              "      fill: #174EA6;\n",
              "    }\n",
              "\n",
              "    [theme=dark] .colab-df-convert {\n",
              "      background-color: #3B4455;\n",
              "      fill: #D2E3FC;\n",
              "    }\n",
              "\n",
              "    [theme=dark] .colab-df-convert:hover {\n",
              "      background-color: #434B5C;\n",
              "      box-shadow: 0px 1px 3px 1px rgba(0, 0, 0, 0.15);\n",
              "      filter: drop-shadow(0px 1px 2px rgba(0, 0, 0, 0.3));\n",
              "      fill: #FFFFFF;\n",
              "    }\n",
              "  </style>\n",
              "\n",
              "      <script>\n",
              "        const buttonEl =\n",
              "          document.querySelector('#df-aa82d987-6f55-4abc-bd4e-bf6ba5a4f3e9 button.colab-df-convert');\n",
              "        buttonEl.style.display =\n",
              "          google.colab.kernel.accessAllowed ? 'block' : 'none';\n",
              "\n",
              "        async function convertToInteractive(key) {\n",
              "          const element = document.querySelector('#df-aa82d987-6f55-4abc-bd4e-bf6ba5a4f3e9');\n",
              "          const dataTable =\n",
              "            await google.colab.kernel.invokeFunction('convertToInteractive',\n",
              "                                                     [key], {});\n",
              "          if (!dataTable) return;\n",
              "\n",
              "          const docLinkHtml = 'Like what you see? Visit the ' +\n",
              "            '<a target=\"_blank\" href=https://colab.research.google.com/notebooks/data_table.ipynb>data table notebook</a>'\n",
              "            + ' to learn more about interactive tables.';\n",
              "          element.innerHTML = '';\n",
              "          dataTable['output_type'] = 'display_data';\n",
              "          await google.colab.output.renderOutput(dataTable, element);\n",
              "          const docLink = document.createElement('div');\n",
              "          docLink.innerHTML = docLinkHtml;\n",
              "          element.appendChild(docLink);\n",
              "        }\n",
              "      </script>\n",
              "    </div>\n",
              "  </div>\n",
              "  "
            ]
          },
          "metadata": {},
          "execution_count": 121
        }
      ]
    },
    {
      "cell_type": "markdown",
      "source": [
        "# We get 3 clusters from hierarchical & KMeans clustering and have same number of clusters with the original data."
      ],
      "metadata": {
        "id": "oK1Dj4jsdeVC"
      }
    },
    {
      "cell_type": "code",
      "source": [],
      "metadata": {
        "id": "JVjY85ZxdYSt"
      },
      "execution_count": null,
      "outputs": []
    }
  ]
}